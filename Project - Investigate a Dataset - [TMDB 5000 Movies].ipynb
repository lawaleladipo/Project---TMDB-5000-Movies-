{
 "cells": [
  {
   "cell_type": "markdown",
   "id": "64590f81",
   "metadata": {},
   "source": [
    "# Project: TMDB 5000 Movies Dataset Investigate\n",
    "### Table of Contents\n",
    "- [Introduction](#Introduction)\n",
    "- [Data Wrangling](#Data Wrangling)\n",
    "- [Exploratory Data Analysis](# Exploratory Data Analysis)\n",
    "- [Conclusions](#Conclusions)"
   ]
  },
  {
   "cell_type": "markdown",
   "id": "34d2cb8a",
   "metadata": {},
   "source": [
    "# Introduction"
   ]
  },
  {
   "cell_type": "markdown",
   "id": "4886c47b",
   "metadata": {},
   "source": [
    "## Dataset Description"
   ]
  },
  {
   "cell_type": "markdown",
   "id": "510b607f",
   "metadata": {},
   "source": [
    "This data set contains information about 10,000 movies collected from The Movie Database (TMDb), including user ratings and revenue. The data is in two sets, the first one is the movies dataset while the second one is the credits datasets\n",
    "\n",
    "columns descriptions:\n",
    "\n",
    "- id: the unique identifier for each movie.\n",
    "- imdb_id: the unique identifier for each movie on IMDB website.\n",
    "- popularity:popularity for each movie.\n",
    "- budget: Movie budget.\n",
    "- revenue: Movie revenue.\n",
    "- original_title: Movie Title.\n",
    "- cast: Movie cast.\n",
    "- homepage: Movie webpage link.\n",
    "- director: Movie director.\n",
    "- tagline: Movie tagline.\n",
    "- keywords:Movie keywords.\n",
    "- overview: Movie overview.\n",
    "- runtime: Movie run times.\n",
    "- genres: Movie genres.\n",
    "- production_companies: Movie production\n",
    "- release_date: Movie release date (month/day/year).\n",
    "- vote_count: Movie vote count.\n",
    "- vote_average: Movie vote average.\n",
    "- release_year:Movie release year.\n",
    "- casts: the actors in the movie\n",
    "- crew: the people who are involved in the making of the movies"
   ]
  },
  {
   "cell_type": "markdown",
   "id": "c8d93a6f",
   "metadata": {},
   "source": [
    "## Questions:"
   ]
  },
  {
   "cell_type": "markdown",
   "id": "1fce81ca",
   "metadata": {},
   "source": [
    "    1) What kinds of properties are associated with movies that have high revenues?\n",
    "    2) How does the budget relate to Revenue?\n",
    "    3) What are the characteristics of popular movies?\n",
    "    4) Which is the top 10 highest budget movies\n",
    "    5) Which is the top 10 higest revenue movies\n",
    "    6) Which is the top 10 most rated movies\n",
    "    7) Which is the top 10 grossing movies\n",
    "    8) Which is the most failed movies above 100m\n",
    "    9) Which is the top 10 highest runtime movies? \n",
    "    10) Which gender is most used?\n",
    "\n"
   ]
  },
  {
   "cell_type": "markdown",
   "id": "616ee625",
   "metadata": {},
   "source": [
    "Import needed libraries"
   ]
  },
  {
   "cell_type": "code",
   "execution_count": 3,
   "id": "1438bb09",
   "metadata": {},
   "outputs": [],
   "source": [
    "import pandas as pd\n",
    "import numpy as np\n",
    "import matplotlib.pyplot as plt\n",
    "%matplotlib inline\n",
    "import ast"
   ]
  },
  {
   "cell_type": "code",
   "execution_count": 4,
   "id": "a0d99ee4",
   "metadata": {},
   "outputs": [],
   "source": [
    "#Load datsets\n",
    "movies = pd.read_csv('tmdb_5000_movies.csv')\n",
    "credits = pd.read_csv('tmdb_5000_credits.csv')"
   ]
  },
  {
   "cell_type": "code",
   "execution_count": 5,
   "id": "7db33f78",
   "metadata": {
    "scrolled": true
   },
   "outputs": [
    {
     "data": {
      "text/html": [
       "<div>\n",
       "<style scoped>\n",
       "    .dataframe tbody tr th:only-of-type {\n",
       "        vertical-align: middle;\n",
       "    }\n",
       "\n",
       "    .dataframe tbody tr th {\n",
       "        vertical-align: top;\n",
       "    }\n",
       "\n",
       "    .dataframe thead th {\n",
       "        text-align: right;\n",
       "    }\n",
       "</style>\n",
       "<table border=\"1\" class=\"dataframe\">\n",
       "  <thead>\n",
       "    <tr style=\"text-align: right;\">\n",
       "      <th></th>\n",
       "      <th>budget</th>\n",
       "      <th>genres</th>\n",
       "      <th>homepage</th>\n",
       "      <th>id</th>\n",
       "      <th>keywords</th>\n",
       "      <th>original_language</th>\n",
       "      <th>original_title</th>\n",
       "      <th>overview</th>\n",
       "      <th>popularity</th>\n",
       "      <th>production_companies</th>\n",
       "      <th>production_countries</th>\n",
       "      <th>release_date</th>\n",
       "      <th>revenue</th>\n",
       "      <th>runtime</th>\n",
       "      <th>spoken_languages</th>\n",
       "      <th>status</th>\n",
       "      <th>tagline</th>\n",
       "      <th>title</th>\n",
       "      <th>vote_average</th>\n",
       "      <th>vote_count</th>\n",
       "    </tr>\n",
       "  </thead>\n",
       "  <tbody>\n",
       "    <tr>\n",
       "      <th>0</th>\n",
       "      <td>237000000</td>\n",
       "      <td>[{\"id\": 28, \"name\": \"Action\"}, {\"id\": 12, \"nam...</td>\n",
       "      <td>http://www.avatarmovie.com/</td>\n",
       "      <td>19995</td>\n",
       "      <td>[{\"id\": 1463, \"name\": \"culture clash\"}, {\"id\":...</td>\n",
       "      <td>en</td>\n",
       "      <td>Avatar</td>\n",
       "      <td>In the 22nd century, a paraplegic Marine is di...</td>\n",
       "      <td>150.437577</td>\n",
       "      <td>[{\"name\": \"Ingenious Film Partners\", \"id\": 289...</td>\n",
       "      <td>[{\"iso_3166_1\": \"US\", \"name\": \"United States o...</td>\n",
       "      <td>2009-12-10</td>\n",
       "      <td>2787965087</td>\n",
       "      <td>162.0</td>\n",
       "      <td>[{\"iso_639_1\": \"en\", \"name\": \"English\"}, {\"iso...</td>\n",
       "      <td>Released</td>\n",
       "      <td>Enter the World of Pandora.</td>\n",
       "      <td>Avatar</td>\n",
       "      <td>7.2</td>\n",
       "      <td>11800</td>\n",
       "    </tr>\n",
       "  </tbody>\n",
       "</table>\n",
       "</div>"
      ],
      "text/plain": [
       "      budget                                             genres  \\\n",
       "0  237000000  [{\"id\": 28, \"name\": \"Action\"}, {\"id\": 12, \"nam...   \n",
       "\n",
       "                      homepage     id  \\\n",
       "0  http://www.avatarmovie.com/  19995   \n",
       "\n",
       "                                            keywords original_language  \\\n",
       "0  [{\"id\": 1463, \"name\": \"culture clash\"}, {\"id\":...                en   \n",
       "\n",
       "  original_title                                           overview  \\\n",
       "0         Avatar  In the 22nd century, a paraplegic Marine is di...   \n",
       "\n",
       "   popularity                               production_companies  \\\n",
       "0  150.437577  [{\"name\": \"Ingenious Film Partners\", \"id\": 289...   \n",
       "\n",
       "                                production_countries release_date     revenue  \\\n",
       "0  [{\"iso_3166_1\": \"US\", \"name\": \"United States o...   2009-12-10  2787965087   \n",
       "\n",
       "   runtime                                   spoken_languages    status  \\\n",
       "0    162.0  [{\"iso_639_1\": \"en\", \"name\": \"English\"}, {\"iso...  Released   \n",
       "\n",
       "                       tagline   title  vote_average  vote_count  \n",
       "0  Enter the World of Pandora.  Avatar           7.2       11800  "
      ]
     },
     "execution_count": 5,
     "metadata": {},
     "output_type": "execute_result"
    }
   ],
   "source": [
    "#Inspect datasets\n",
    "movies.head(1)"
   ]
  },
  {
   "cell_type": "code",
   "execution_count": 6,
   "id": "55e299f9",
   "metadata": {},
   "outputs": [
    {
     "data": {
      "text/html": [
       "<div>\n",
       "<style scoped>\n",
       "    .dataframe tbody tr th:only-of-type {\n",
       "        vertical-align: middle;\n",
       "    }\n",
       "\n",
       "    .dataframe tbody tr th {\n",
       "        vertical-align: top;\n",
       "    }\n",
       "\n",
       "    .dataframe thead th {\n",
       "        text-align: right;\n",
       "    }\n",
       "</style>\n",
       "<table border=\"1\" class=\"dataframe\">\n",
       "  <thead>\n",
       "    <tr style=\"text-align: right;\">\n",
       "      <th></th>\n",
       "      <th>movie_id</th>\n",
       "      <th>title</th>\n",
       "      <th>cast</th>\n",
       "      <th>crew</th>\n",
       "    </tr>\n",
       "  </thead>\n",
       "  <tbody>\n",
       "    <tr>\n",
       "      <th>0</th>\n",
       "      <td>19995</td>\n",
       "      <td>Avatar</td>\n",
       "      <td>[{\"cast_id\": 242, \"character\": \"Jake Sully\", \"...</td>\n",
       "      <td>[{\"credit_id\": \"52fe48009251416c750aca23\", \"de...</td>\n",
       "    </tr>\n",
       "  </tbody>\n",
       "</table>\n",
       "</div>"
      ],
      "text/plain": [
       "   movie_id   title                                               cast  \\\n",
       "0     19995  Avatar  [{\"cast_id\": 242, \"character\": \"Jake Sully\", \"...   \n",
       "\n",
       "                                                crew  \n",
       "0  [{\"credit_id\": \"52fe48009251416c750aca23\", \"de...  "
      ]
     },
     "execution_count": 6,
     "metadata": {},
     "output_type": "execute_result"
    }
   ],
   "source": [
    "credits.head(1)"
   ]
  },
  {
   "cell_type": "markdown",
   "id": "f84fd702",
   "metadata": {},
   "source": [
    "Assess datasets"
   ]
  },
  {
   "cell_type": "code",
   "execution_count": 7,
   "id": "83142e5a",
   "metadata": {
    "scrolled": true
   },
   "outputs": [
    {
     "name": "stdout",
     "output_type": "stream",
     "text": [
      "<class 'pandas.core.frame.DataFrame'>\n",
      "RangeIndex: 4803 entries, 0 to 4802\n",
      "Data columns (total 20 columns):\n",
      " #   Column                Non-Null Count  Dtype  \n",
      "---  ------                --------------  -----  \n",
      " 0   budget                4803 non-null   int64  \n",
      " 1   genres                4803 non-null   object \n",
      " 2   homepage              1712 non-null   object \n",
      " 3   id                    4803 non-null   int64  \n",
      " 4   keywords              4803 non-null   object \n",
      " 5   original_language     4803 non-null   object \n",
      " 6   original_title        4803 non-null   object \n",
      " 7   overview              4800 non-null   object \n",
      " 8   popularity            4803 non-null   float64\n",
      " 9   production_companies  4803 non-null   object \n",
      " 10  production_countries  4803 non-null   object \n",
      " 11  release_date          4802 non-null   object \n",
      " 12  revenue               4803 non-null   int64  \n",
      " 13  runtime               4801 non-null   float64\n",
      " 14  spoken_languages      4803 non-null   object \n",
      " 15  status                4803 non-null   object \n",
      " 16  tagline               3959 non-null   object \n",
      " 17  title                 4803 non-null   object \n",
      " 18  vote_average          4803 non-null   float64\n",
      " 19  vote_count            4803 non-null   int64  \n",
      "dtypes: float64(3), int64(4), object(13)\n",
      "memory usage: 750.6+ KB\n"
     ]
    }
   ],
   "source": [
    "movies.info()"
   ]
  },
  {
   "cell_type": "code",
   "execution_count": 8,
   "id": "f3ec840f",
   "metadata": {},
   "outputs": [
    {
     "name": "stdout",
     "output_type": "stream",
     "text": [
      "<class 'pandas.core.frame.DataFrame'>\n",
      "RangeIndex: 4803 entries, 0 to 4802\n",
      "Data columns (total 4 columns):\n",
      " #   Column    Non-Null Count  Dtype \n",
      "---  ------    --------------  ----- \n",
      " 0   movie_id  4803 non-null   int64 \n",
      " 1   title     4803 non-null   object\n",
      " 2   cast      4803 non-null   object\n",
      " 3   crew      4803 non-null   object\n",
      "dtypes: int64(1), object(3)\n",
      "memory usage: 150.2+ KB\n"
     ]
    }
   ],
   "source": [
    "credits.info()"
   ]
  },
  {
   "cell_type": "code",
   "execution_count": 9,
   "id": "4b7dff91",
   "metadata": {
    "scrolled": true
   },
   "outputs": [
    {
     "data": {
      "text/html": [
       "<div>\n",
       "<style scoped>\n",
       "    .dataframe tbody tr th:only-of-type {\n",
       "        vertical-align: middle;\n",
       "    }\n",
       "\n",
       "    .dataframe tbody tr th {\n",
       "        vertical-align: top;\n",
       "    }\n",
       "\n",
       "    .dataframe thead th {\n",
       "        text-align: right;\n",
       "    }\n",
       "</style>\n",
       "<table border=\"1\" class=\"dataframe\">\n",
       "  <thead>\n",
       "    <tr style=\"text-align: right;\">\n",
       "      <th></th>\n",
       "      <th>budget</th>\n",
       "      <th>id</th>\n",
       "      <th>popularity</th>\n",
       "      <th>revenue</th>\n",
       "      <th>runtime</th>\n",
       "      <th>vote_average</th>\n",
       "      <th>vote_count</th>\n",
       "    </tr>\n",
       "  </thead>\n",
       "  <tbody>\n",
       "    <tr>\n",
       "      <th>count</th>\n",
       "      <td>4.803000e+03</td>\n",
       "      <td>4803.000000</td>\n",
       "      <td>4803.000000</td>\n",
       "      <td>4.803000e+03</td>\n",
       "      <td>4801.000000</td>\n",
       "      <td>4803.000000</td>\n",
       "      <td>4803.000000</td>\n",
       "    </tr>\n",
       "    <tr>\n",
       "      <th>mean</th>\n",
       "      <td>2.904504e+07</td>\n",
       "      <td>57165.484281</td>\n",
       "      <td>21.492301</td>\n",
       "      <td>8.226064e+07</td>\n",
       "      <td>106.875859</td>\n",
       "      <td>6.092172</td>\n",
       "      <td>690.217989</td>\n",
       "    </tr>\n",
       "    <tr>\n",
       "      <th>std</th>\n",
       "      <td>4.072239e+07</td>\n",
       "      <td>88694.614033</td>\n",
       "      <td>31.816650</td>\n",
       "      <td>1.628571e+08</td>\n",
       "      <td>22.611935</td>\n",
       "      <td>1.194612</td>\n",
       "      <td>1234.585891</td>\n",
       "    </tr>\n",
       "    <tr>\n",
       "      <th>min</th>\n",
       "      <td>0.000000e+00</td>\n",
       "      <td>5.000000</td>\n",
       "      <td>0.000000</td>\n",
       "      <td>0.000000e+00</td>\n",
       "      <td>0.000000</td>\n",
       "      <td>0.000000</td>\n",
       "      <td>0.000000</td>\n",
       "    </tr>\n",
       "    <tr>\n",
       "      <th>25%</th>\n",
       "      <td>7.900000e+05</td>\n",
       "      <td>9014.500000</td>\n",
       "      <td>4.668070</td>\n",
       "      <td>0.000000e+00</td>\n",
       "      <td>94.000000</td>\n",
       "      <td>5.600000</td>\n",
       "      <td>54.000000</td>\n",
       "    </tr>\n",
       "    <tr>\n",
       "      <th>50%</th>\n",
       "      <td>1.500000e+07</td>\n",
       "      <td>14629.000000</td>\n",
       "      <td>12.921594</td>\n",
       "      <td>1.917000e+07</td>\n",
       "      <td>103.000000</td>\n",
       "      <td>6.200000</td>\n",
       "      <td>235.000000</td>\n",
       "    </tr>\n",
       "    <tr>\n",
       "      <th>75%</th>\n",
       "      <td>4.000000e+07</td>\n",
       "      <td>58610.500000</td>\n",
       "      <td>28.313505</td>\n",
       "      <td>9.291719e+07</td>\n",
       "      <td>118.000000</td>\n",
       "      <td>6.800000</td>\n",
       "      <td>737.000000</td>\n",
       "    </tr>\n",
       "    <tr>\n",
       "      <th>max</th>\n",
       "      <td>3.800000e+08</td>\n",
       "      <td>459488.000000</td>\n",
       "      <td>875.581305</td>\n",
       "      <td>2.787965e+09</td>\n",
       "      <td>338.000000</td>\n",
       "      <td>10.000000</td>\n",
       "      <td>13752.000000</td>\n",
       "    </tr>\n",
       "  </tbody>\n",
       "</table>\n",
       "</div>"
      ],
      "text/plain": [
       "             budget             id   popularity       revenue      runtime  \\\n",
       "count  4.803000e+03    4803.000000  4803.000000  4.803000e+03  4801.000000   \n",
       "mean   2.904504e+07   57165.484281    21.492301  8.226064e+07   106.875859   \n",
       "std    4.072239e+07   88694.614033    31.816650  1.628571e+08    22.611935   \n",
       "min    0.000000e+00       5.000000     0.000000  0.000000e+00     0.000000   \n",
       "25%    7.900000e+05    9014.500000     4.668070  0.000000e+00    94.000000   \n",
       "50%    1.500000e+07   14629.000000    12.921594  1.917000e+07   103.000000   \n",
       "75%    4.000000e+07   58610.500000    28.313505  9.291719e+07   118.000000   \n",
       "max    3.800000e+08  459488.000000   875.581305  2.787965e+09   338.000000   \n",
       "\n",
       "       vote_average    vote_count  \n",
       "count   4803.000000   4803.000000  \n",
       "mean       6.092172    690.217989  \n",
       "std        1.194612   1234.585891  \n",
       "min        0.000000      0.000000  \n",
       "25%        5.600000     54.000000  \n",
       "50%        6.200000    235.000000  \n",
       "75%        6.800000    737.000000  \n",
       "max       10.000000  13752.000000  "
      ]
     },
     "execution_count": 9,
     "metadata": {},
     "output_type": "execute_result"
    }
   ],
   "source": [
    "movies.describe()"
   ]
  },
  {
   "cell_type": "code",
   "execution_count": 10,
   "id": "70a5e2aa",
   "metadata": {},
   "outputs": [
    {
     "data": {
      "text/plain": [
       "(4803, 20)"
      ]
     },
     "execution_count": 10,
     "metadata": {},
     "output_type": "execute_result"
    }
   ],
   "source": [
    "movies.shape"
   ]
  },
  {
   "cell_type": "code",
   "execution_count": 11,
   "id": "858bb95c",
   "metadata": {
    "scrolled": true
   },
   "outputs": [
    {
     "data": {
      "text/plain": [
       "(4803, 4)"
      ]
     },
     "execution_count": 11,
     "metadata": {},
     "output_type": "execute_result"
    }
   ],
   "source": [
    "credits.shape"
   ]
  },
  {
   "cell_type": "markdown",
   "id": "844eaaaf",
   "metadata": {},
   "source": [
    "## Data Wrangling"
   ]
  },
  {
   "cell_type": "markdown",
   "id": "cf2edd29",
   "metadata": {},
   "source": [
    "- Gather the data from Dataset and investigate it to understand more details about it.\n",
    "- Assess data to identify any issues with data types, structure, or quality.\n",
    "- Clean data by changing data types, replacing values, removing unnecessary data and modifying Dataset for easy and fast analysis.\n",
    "- homepage column has empty_value\n",
    "- tagline column has empty_value\n",
    "- runtime column has empty_value\n",
    "- release_date column data type is string not datetime.\n",
    "- I add new column [\"profit\"] to calculate every movie gross.\n",
    "- I add new column release year to replace release date.\n",
    "- I remove unnecessary columns 'homepage', 'keywords', 'overview', 'spoken_languages', 'status', 'tagline', 'title_x', 'movie_id', 'title_y', 'vote_count','id'\n",
    "- The status contains ['Released', 'Post Production', 'Rumored'] array, changed the data to 'released' only.  "
   ]
  },
  {
   "cell_type": "code",
   "execution_count": 12,
   "id": "f74fc07b",
   "metadata": {},
   "outputs": [
    {
     "data": {
      "text/plain": [
       "array(['Released', 'Post Production', 'Rumored'], dtype=object)"
      ]
     },
     "execution_count": 12,
     "metadata": {},
     "output_type": "execute_result"
    }
   ],
   "source": [
    "movies.status.unique()"
   ]
  },
  {
   "cell_type": "markdown",
   "id": "01ca08b6",
   "metadata": {},
   "source": [
    "Drop all other rows that the status is not Released"
   ]
  },
  {
   "cell_type": "code",
   "execution_count": 13,
   "id": "cb08b75c",
   "metadata": {},
   "outputs": [],
   "source": [
    "movies = movies.query('status == \"Released\"')"
   ]
  },
  {
   "cell_type": "code",
   "execution_count": 14,
   "id": "0a17ff62",
   "metadata": {},
   "outputs": [
    {
     "data": {
      "text/plain": [
       "(4795, 20)"
      ]
     },
     "execution_count": 14,
     "metadata": {},
     "output_type": "execute_result"
    }
   ],
   "source": [
    "movies.shape"
   ]
  },
  {
   "cell_type": "code",
   "execution_count": 15,
   "id": "b67ad09b",
   "metadata": {},
   "outputs": [],
   "source": [
    "#make a copy of the datsets for cleaning\n",
    "movies2 = movies.copy()"
   ]
  },
  {
   "cell_type": "code",
   "execution_count": 16,
   "id": "29381dc1",
   "metadata": {
    "scrolled": true
   },
   "outputs": [
    {
     "data": {
      "text/html": [
       "<div>\n",
       "<style scoped>\n",
       "    .dataframe tbody tr th:only-of-type {\n",
       "        vertical-align: middle;\n",
       "    }\n",
       "\n",
       "    .dataframe tbody tr th {\n",
       "        vertical-align: top;\n",
       "    }\n",
       "\n",
       "    .dataframe thead th {\n",
       "        text-align: right;\n",
       "    }\n",
       "</style>\n",
       "<table border=\"1\" class=\"dataframe\">\n",
       "  <thead>\n",
       "    <tr style=\"text-align: right;\">\n",
       "      <th></th>\n",
       "      <th>budget</th>\n",
       "      <th>genres</th>\n",
       "      <th>homepage</th>\n",
       "      <th>id</th>\n",
       "      <th>keywords</th>\n",
       "      <th>original_language</th>\n",
       "      <th>original_title</th>\n",
       "      <th>overview</th>\n",
       "      <th>popularity</th>\n",
       "      <th>production_companies</th>\n",
       "      <th>...</th>\n",
       "      <th>spoken_languages</th>\n",
       "      <th>status</th>\n",
       "      <th>tagline</th>\n",
       "      <th>title_x</th>\n",
       "      <th>vote_average</th>\n",
       "      <th>vote_count</th>\n",
       "      <th>movie_id</th>\n",
       "      <th>title_y</th>\n",
       "      <th>cast</th>\n",
       "      <th>crew</th>\n",
       "    </tr>\n",
       "  </thead>\n",
       "  <tbody>\n",
       "    <tr>\n",
       "      <th>0</th>\n",
       "      <td>237000000</td>\n",
       "      <td>[{\"id\": 28, \"name\": \"Action\"}, {\"id\": 12, \"nam...</td>\n",
       "      <td>http://www.avatarmovie.com/</td>\n",
       "      <td>19995</td>\n",
       "      <td>[{\"id\": 1463, \"name\": \"culture clash\"}, {\"id\":...</td>\n",
       "      <td>en</td>\n",
       "      <td>Avatar</td>\n",
       "      <td>In the 22nd century, a paraplegic Marine is di...</td>\n",
       "      <td>150.437577</td>\n",
       "      <td>[{\"name\": \"Ingenious Film Partners\", \"id\": 289...</td>\n",
       "      <td>...</td>\n",
       "      <td>[{\"iso_639_1\": \"en\", \"name\": \"English\"}, {\"iso...</td>\n",
       "      <td>Released</td>\n",
       "      <td>Enter the World of Pandora.</td>\n",
       "      <td>Avatar</td>\n",
       "      <td>7.2</td>\n",
       "      <td>11800</td>\n",
       "      <td>19995</td>\n",
       "      <td>Avatar</td>\n",
       "      <td>[{\"cast_id\": 242, \"character\": \"Jake Sully\", \"...</td>\n",
       "      <td>[{\"credit_id\": \"52fe48009251416c750aca23\", \"de...</td>\n",
       "    </tr>\n",
       "  </tbody>\n",
       "</table>\n",
       "<p>1 rows × 24 columns</p>\n",
       "</div>"
      ],
      "text/plain": [
       "      budget                                             genres  \\\n",
       "0  237000000  [{\"id\": 28, \"name\": \"Action\"}, {\"id\": 12, \"nam...   \n",
       "\n",
       "                      homepage     id  \\\n",
       "0  http://www.avatarmovie.com/  19995   \n",
       "\n",
       "                                            keywords original_language  \\\n",
       "0  [{\"id\": 1463, \"name\": \"culture clash\"}, {\"id\":...                en   \n",
       "\n",
       "  original_title                                           overview  \\\n",
       "0         Avatar  In the 22nd century, a paraplegic Marine is di...   \n",
       "\n",
       "   popularity                               production_companies  ...  \\\n",
       "0  150.437577  [{\"name\": \"Ingenious Film Partners\", \"id\": 289...  ...   \n",
       "\n",
       "                                    spoken_languages    status  \\\n",
       "0  [{\"iso_639_1\": \"en\", \"name\": \"English\"}, {\"iso...  Released   \n",
       "\n",
       "                       tagline  title_x vote_average vote_count movie_id  \\\n",
       "0  Enter the World of Pandora.   Avatar          7.2      11800    19995   \n",
       "\n",
       "  title_y                                               cast  \\\n",
       "0  Avatar  [{\"cast_id\": 242, \"character\": \"Jake Sully\", \"...   \n",
       "\n",
       "                                                crew  \n",
       "0  [{\"credit_id\": \"52fe48009251416c750aca23\", \"de...  \n",
       "\n",
       "[1 rows x 24 columns]"
      ]
     },
     "execution_count": 16,
     "metadata": {},
     "output_type": "execute_result"
    }
   ],
   "source": [
    "#merged both datsets\n",
    "merged = movies.merge(credits, left_on='id', right_on='movie_id')\n",
    "merged.head(1)"
   ]
  },
  {
   "cell_type": "code",
   "execution_count": 17,
   "id": "edc6dd8c",
   "metadata": {},
   "outputs": [
    {
     "name": "stdout",
     "output_type": "stream",
     "text": [
      "<class 'pandas.core.frame.DataFrame'>\n",
      "Int64Index: 4795 entries, 0 to 4794\n",
      "Data columns (total 24 columns):\n",
      " #   Column                Non-Null Count  Dtype  \n",
      "---  ------                --------------  -----  \n",
      " 0   budget                4795 non-null   int64  \n",
      " 1   genres                4795 non-null   object \n",
      " 2   homepage              1709 non-null   object \n",
      " 3   id                    4795 non-null   int64  \n",
      " 4   keywords              4795 non-null   object \n",
      " 5   original_language     4795 non-null   object \n",
      " 6   original_title        4795 non-null   object \n",
      " 7   overview              4792 non-null   object \n",
      " 8   popularity            4795 non-null   float64\n",
      " 9   production_companies  4795 non-null   object \n",
      " 10  production_countries  4795 non-null   object \n",
      " 11  release_date          4794 non-null   object \n",
      " 12  revenue               4795 non-null   int64  \n",
      " 13  runtime               4793 non-null   float64\n",
      " 14  spoken_languages      4795 non-null   object \n",
      " 15  status                4795 non-null   object \n",
      " 16  tagline               3957 non-null   object \n",
      " 17  title_x               4795 non-null   object \n",
      " 18  vote_average          4795 non-null   float64\n",
      " 19  vote_count            4795 non-null   int64  \n",
      " 20  movie_id              4795 non-null   int64  \n",
      " 21  title_y               4795 non-null   object \n",
      " 22  cast                  4795 non-null   object \n",
      " 23  crew                  4795 non-null   object \n",
      "dtypes: float64(3), int64(5), object(16)\n",
      "memory usage: 936.5+ KB\n"
     ]
    }
   ],
   "source": [
    "#assess the merged data\n",
    "merged.info()"
   ]
  },
  {
   "cell_type": "markdown",
   "id": "6e89005d",
   "metadata": {},
   "source": [
    "Clean Data"
   ]
  },
  {
   "cell_type": "code",
   "execution_count": 18,
   "id": "13e3a8bd",
   "metadata": {},
   "outputs": [
    {
     "data": {
      "text/plain": [
       "budget                     0\n",
       "genres                     0\n",
       "homepage                3086\n",
       "id                         0\n",
       "keywords                   0\n",
       "original_language          0\n",
       "original_title             0\n",
       "overview                   3\n",
       "popularity                 0\n",
       "production_companies       0\n",
       "production_countries       0\n",
       "release_date               1\n",
       "revenue                    0\n",
       "runtime                    2\n",
       "spoken_languages           0\n",
       "status                     0\n",
       "tagline                  838\n",
       "title_x                    0\n",
       "vote_average               0\n",
       "vote_count                 0\n",
       "movie_id                   0\n",
       "title_y                    0\n",
       "cast                       0\n",
       "crew                       0\n",
       "dtype: int64"
      ]
     },
     "execution_count": 18,
     "metadata": {},
     "output_type": "execute_result"
    }
   ],
   "source": [
    "#check data for null values\n",
    "merged.isna().sum()"
   ]
  },
  {
   "cell_type": "code",
   "execution_count": 19,
   "id": "44eed7a6",
   "metadata": {},
   "outputs": [
    {
     "data": {
      "text/plain": [
       "budget                  0\n",
       "genres                  0\n",
       "homepage                0\n",
       "id                      0\n",
       "keywords                0\n",
       "original_language       0\n",
       "original_title          0\n",
       "overview                0\n",
       "popularity              0\n",
       "production_companies    0\n",
       "production_countries    0\n",
       "release_date            0\n",
       "revenue                 0\n",
       "runtime                 0\n",
       "spoken_languages        0\n",
       "status                  0\n",
       "tagline                 0\n",
       "title_x                 0\n",
       "vote_average            0\n",
       "vote_count              0\n",
       "movie_id                0\n",
       "title_y                 0\n",
       "cast                    0\n",
       "crew                    0\n",
       "dtype: int64"
      ]
     },
     "execution_count": 19,
     "metadata": {},
     "output_type": "execute_result"
    }
   ],
   "source": [
    "#drop all null values\n",
    "merged.dropna(inplace=True)\n",
    "merged.isna().sum()"
   ]
  },
  {
   "cell_type": "code",
   "execution_count": 20,
   "id": "5bd0f29a",
   "metadata": {},
   "outputs": [],
   "source": [
    "#drop columns that are not useful\n",
    "merged.drop(['homepage', 'keywords', 'overview', 'spoken_languages', 'status', 'tagline', 'title_x', 'movie_id', 'title_y', 'vote_count','id'], axis=1, inplace=True)"
   ]
  },
  {
   "cell_type": "code",
   "execution_count": 21,
   "id": "27f8a21b",
   "metadata": {},
   "outputs": [
    {
     "name": "stdout",
     "output_type": "stream",
     "text": [
      "<class 'pandas.core.frame.DataFrame'>\n",
      "Int64Index: 1492 entries, 0 to 4793\n",
      "Data columns (total 13 columns):\n",
      " #   Column                Non-Null Count  Dtype  \n",
      "---  ------                --------------  -----  \n",
      " 0   budget                1492 non-null   int64  \n",
      " 1   genres                1492 non-null   object \n",
      " 2   original_language     1492 non-null   object \n",
      " 3   original_title        1492 non-null   object \n",
      " 4   popularity            1492 non-null   float64\n",
      " 5   production_companies  1492 non-null   object \n",
      " 6   production_countries  1492 non-null   object \n",
      " 7   release_date          1492 non-null   object \n",
      " 8   revenue               1492 non-null   int64  \n",
      " 9   runtime               1492 non-null   float64\n",
      " 10  vote_average          1492 non-null   float64\n",
      " 11  cast                  1492 non-null   object \n",
      " 12  crew                  1492 non-null   object \n",
      "dtypes: float64(3), int64(2), object(8)\n",
      "memory usage: 163.2+ KB\n"
     ]
    }
   ],
   "source": [
    "merged.info()"
   ]
  },
  {
   "cell_type": "code",
   "execution_count": 22,
   "id": "d2653b89",
   "metadata": {},
   "outputs": [
    {
     "data": {
      "text/html": [
       "<div>\n",
       "<style scoped>\n",
       "    .dataframe tbody tr th:only-of-type {\n",
       "        vertical-align: middle;\n",
       "    }\n",
       "\n",
       "    .dataframe tbody tr th {\n",
       "        vertical-align: top;\n",
       "    }\n",
       "\n",
       "    .dataframe thead th {\n",
       "        text-align: right;\n",
       "    }\n",
       "</style>\n",
       "<table border=\"1\" class=\"dataframe\">\n",
       "  <thead>\n",
       "    <tr style=\"text-align: right;\">\n",
       "      <th></th>\n",
       "      <th>budget</th>\n",
       "      <th>popularity</th>\n",
       "      <th>revenue</th>\n",
       "      <th>runtime</th>\n",
       "      <th>vote_average</th>\n",
       "    </tr>\n",
       "  </thead>\n",
       "  <tbody>\n",
       "    <tr>\n",
       "      <th>count</th>\n",
       "      <td>1.492000e+03</td>\n",
       "      <td>1492.000000</td>\n",
       "      <td>1.492000e+03</td>\n",
       "      <td>1492.000000</td>\n",
       "      <td>1492.000000</td>\n",
       "    </tr>\n",
       "    <tr>\n",
       "      <th>mean</th>\n",
       "      <td>4.592610e+07</td>\n",
       "      <td>35.773116</td>\n",
       "      <td>1.551122e+08</td>\n",
       "      <td>108.670912</td>\n",
       "      <td>6.274196</td>\n",
       "    </tr>\n",
       "    <tr>\n",
       "      <th>std</th>\n",
       "      <td>5.369703e+07</td>\n",
       "      <td>48.214887</td>\n",
       "      <td>2.409185e+08</td>\n",
       "      <td>19.378565</td>\n",
       "      <td>0.969459</td>\n",
       "    </tr>\n",
       "    <tr>\n",
       "      <th>min</th>\n",
       "      <td>0.000000e+00</td>\n",
       "      <td>0.023681</td>\n",
       "      <td>0.000000e+00</td>\n",
       "      <td>0.000000</td>\n",
       "      <td>0.000000</td>\n",
       "    </tr>\n",
       "    <tr>\n",
       "      <th>25%</th>\n",
       "      <td>7.500000e+06</td>\n",
       "      <td>11.633720</td>\n",
       "      <td>9.473596e+06</td>\n",
       "      <td>95.000000</td>\n",
       "      <td>5.800000</td>\n",
       "    </tr>\n",
       "    <tr>\n",
       "      <th>50%</th>\n",
       "      <td>2.700000e+07</td>\n",
       "      <td>25.281258</td>\n",
       "      <td>6.258280e+07</td>\n",
       "      <td>106.000000</td>\n",
       "      <td>6.300000</td>\n",
       "    </tr>\n",
       "    <tr>\n",
       "      <th>75%</th>\n",
       "      <td>6.325000e+07</td>\n",
       "      <td>45.150375</td>\n",
       "      <td>1.860821e+08</td>\n",
       "      <td>120.000000</td>\n",
       "      <td>6.900000</td>\n",
       "    </tr>\n",
       "    <tr>\n",
       "      <th>max</th>\n",
       "      <td>3.800000e+08</td>\n",
       "      <td>875.581305</td>\n",
       "      <td>2.787965e+09</td>\n",
       "      <td>201.000000</td>\n",
       "      <td>8.400000</td>\n",
       "    </tr>\n",
       "  </tbody>\n",
       "</table>\n",
       "</div>"
      ],
      "text/plain": [
       "             budget   popularity       revenue      runtime  vote_average\n",
       "count  1.492000e+03  1492.000000  1.492000e+03  1492.000000   1492.000000\n",
       "mean   4.592610e+07    35.773116  1.551122e+08   108.670912      6.274196\n",
       "std    5.369703e+07    48.214887  2.409185e+08    19.378565      0.969459\n",
       "min    0.000000e+00     0.023681  0.000000e+00     0.000000      0.000000\n",
       "25%    7.500000e+06    11.633720  9.473596e+06    95.000000      5.800000\n",
       "50%    2.700000e+07    25.281258  6.258280e+07   106.000000      6.300000\n",
       "75%    6.325000e+07    45.150375  1.860821e+08   120.000000      6.900000\n",
       "max    3.800000e+08   875.581305  2.787965e+09   201.000000      8.400000"
      ]
     },
     "execution_count": 22,
     "metadata": {},
     "output_type": "execute_result"
    }
   ],
   "source": [
    "#Inspect new merged data\n",
    "merged.describe()"
   ]
  },
  {
   "cell_type": "code",
   "execution_count": 23,
   "id": "e2a2e473",
   "metadata": {},
   "outputs": [
    {
     "data": {
      "text/html": [
       "<div>\n",
       "<style scoped>\n",
       "    .dataframe tbody tr th:only-of-type {\n",
       "        vertical-align: middle;\n",
       "    }\n",
       "\n",
       "    .dataframe tbody tr th {\n",
       "        vertical-align: top;\n",
       "    }\n",
       "\n",
       "    .dataframe thead th {\n",
       "        text-align: right;\n",
       "    }\n",
       "</style>\n",
       "<table border=\"1\" class=\"dataframe\">\n",
       "  <thead>\n",
       "    <tr style=\"text-align: right;\">\n",
       "      <th></th>\n",
       "      <th>budget</th>\n",
       "      <th>popularity</th>\n",
       "      <th>revenue</th>\n",
       "      <th>runtime</th>\n",
       "      <th>vote_average</th>\n",
       "    </tr>\n",
       "  </thead>\n",
       "  <tbody>\n",
       "    <tr>\n",
       "      <th>budget</th>\n",
       "      <td>1.000000</td>\n",
       "      <td>0.454771</td>\n",
       "      <td>0.744793</td>\n",
       "      <td>0.369292</td>\n",
       "      <td>0.088710</td>\n",
       "    </tr>\n",
       "    <tr>\n",
       "      <th>popularity</th>\n",
       "      <td>0.454771</td>\n",
       "      <td>1.000000</td>\n",
       "      <td>0.593536</td>\n",
       "      <td>0.295621</td>\n",
       "      <td>0.301305</td>\n",
       "    </tr>\n",
       "    <tr>\n",
       "      <th>revenue</th>\n",
       "      <td>0.744793</td>\n",
       "      <td>0.593536</td>\n",
       "      <td>1.000000</td>\n",
       "      <td>0.381417</td>\n",
       "      <td>0.251516</td>\n",
       "    </tr>\n",
       "    <tr>\n",
       "      <th>runtime</th>\n",
       "      <td>0.369292</td>\n",
       "      <td>0.295621</td>\n",
       "      <td>0.381417</td>\n",
       "      <td>1.000000</td>\n",
       "      <td>0.414724</td>\n",
       "    </tr>\n",
       "    <tr>\n",
       "      <th>vote_average</th>\n",
       "      <td>0.088710</td>\n",
       "      <td>0.301305</td>\n",
       "      <td>0.251516</td>\n",
       "      <td>0.414724</td>\n",
       "      <td>1.000000</td>\n",
       "    </tr>\n",
       "  </tbody>\n",
       "</table>\n",
       "</div>"
      ],
      "text/plain": [
       "                budget  popularity   revenue   runtime  vote_average\n",
       "budget        1.000000    0.454771  0.744793  0.369292      0.088710\n",
       "popularity    0.454771    1.000000  0.593536  0.295621      0.301305\n",
       "revenue       0.744793    0.593536  1.000000  0.381417      0.251516\n",
       "runtime       0.369292    0.295621  0.381417  1.000000      0.414724\n",
       "vote_average  0.088710    0.301305  0.251516  0.414724      1.000000"
      ]
     },
     "execution_count": 23,
     "metadata": {},
     "output_type": "execute_result"
    }
   ],
   "source": [
    "#check the correlations between the columns\n",
    "merged.corr()"
   ]
  },
  {
   "cell_type": "code",
   "execution_count": 24,
   "id": "7f4de0f6",
   "metadata": {},
   "outputs": [],
   "source": [
    "#rename title and language columns\n",
    "merged = merged.rename(columns={\"original_title\": \"title\", \"original_language\": \"language\"})"
   ]
  },
  {
   "cell_type": "code",
   "execution_count": 25,
   "id": "b646a9af",
   "metadata": {},
   "outputs": [
    {
     "data": {
      "text/plain": [
       "budget                    int64\n",
       "genres                   object\n",
       "language                 object\n",
       "title                    object\n",
       "popularity              float64\n",
       "production_companies     object\n",
       "production_countries     object\n",
       "release_date             object\n",
       "revenue                   int64\n",
       "runtime                 float64\n",
       "vote_average            float64\n",
       "cast                     object\n",
       "crew                     object\n",
       "dtype: object"
      ]
     },
     "execution_count": 25,
     "metadata": {},
     "output_type": "execute_result"
    }
   ],
   "source": [
    "#check data types\n",
    "merged.dtypes"
   ]
  },
  {
   "cell_type": "code",
   "execution_count": 26,
   "id": "c6ce21bb",
   "metadata": {},
   "outputs": [
    {
     "data": {
      "text/html": [
       "<div>\n",
       "<style scoped>\n",
       "    .dataframe tbody tr th:only-of-type {\n",
       "        vertical-align: middle;\n",
       "    }\n",
       "\n",
       "    .dataframe tbody tr th {\n",
       "        vertical-align: top;\n",
       "    }\n",
       "\n",
       "    .dataframe thead th {\n",
       "        text-align: right;\n",
       "    }\n",
       "</style>\n",
       "<table border=\"1\" class=\"dataframe\">\n",
       "  <thead>\n",
       "    <tr style=\"text-align: right;\">\n",
       "      <th></th>\n",
       "      <th>budget</th>\n",
       "      <th>genres</th>\n",
       "      <th>language</th>\n",
       "      <th>title</th>\n",
       "      <th>popularity</th>\n",
       "      <th>production_companies</th>\n",
       "      <th>production_countries</th>\n",
       "      <th>release_date</th>\n",
       "      <th>revenue</th>\n",
       "      <th>runtime</th>\n",
       "      <th>vote_average</th>\n",
       "      <th>cast</th>\n",
       "      <th>crew</th>\n",
       "    </tr>\n",
       "  </thead>\n",
       "  <tbody>\n",
       "    <tr>\n",
       "      <th>0</th>\n",
       "      <td>237000000</td>\n",
       "      <td>[{\"id\": 28, \"name\": \"Action\"}, {\"id\": 12, \"nam...</td>\n",
       "      <td>en</td>\n",
       "      <td>Avatar</td>\n",
       "      <td>150.437577</td>\n",
       "      <td>[{\"name\": \"Ingenious Film Partners\", \"id\": 289...</td>\n",
       "      <td>[{\"iso_3166_1\": \"US\", \"name\": \"United States o...</td>\n",
       "      <td>2009-12-10</td>\n",
       "      <td>2787965087</td>\n",
       "      <td>162.0</td>\n",
       "      <td>7.2</td>\n",
       "      <td>[{\"cast_id\": 242, \"character\": \"Jake Sully\", \"...</td>\n",
       "      <td>[{\"credit_id\": \"52fe48009251416c750aca23\", \"de...</td>\n",
       "    </tr>\n",
       "  </tbody>\n",
       "</table>\n",
       "</div>"
      ],
      "text/plain": [
       "      budget                                             genres language  \\\n",
       "0  237000000  [{\"id\": 28, \"name\": \"Action\"}, {\"id\": 12, \"nam...       en   \n",
       "\n",
       "    title  popularity                               production_companies  \\\n",
       "0  Avatar  150.437577  [{\"name\": \"Ingenious Film Partners\", \"id\": 289...   \n",
       "\n",
       "                                production_countries release_date     revenue  \\\n",
       "0  [{\"iso_3166_1\": \"US\", \"name\": \"United States o...   2009-12-10  2787965087   \n",
       "\n",
       "   runtime  vote_average                                               cast  \\\n",
       "0    162.0           7.2  [{\"cast_id\": 242, \"character\": \"Jake Sully\", \"...   \n",
       "\n",
       "                                                crew  \n",
       "0  [{\"credit_id\": \"52fe48009251416c750aca23\", \"de...  "
      ]
     },
     "execution_count": 26,
     "metadata": {},
     "output_type": "execute_result"
    }
   ],
   "source": [
    "merged.head(1)"
   ]
  },
  {
   "cell_type": "code",
   "execution_count": 27,
   "id": "a95447ee",
   "metadata": {},
   "outputs": [
    {
     "data": {
      "text/plain": [
       "(1492, 13)"
      ]
     },
     "execution_count": 27,
     "metadata": {},
     "output_type": "execute_result"
    }
   ],
   "source": [
    "merged.shape"
   ]
  },
  {
   "cell_type": "code",
   "execution_count": 28,
   "id": "2c50cde2",
   "metadata": {
    "scrolled": true
   },
   "outputs": [
    {
     "data": {
      "text/plain": [
       "en    1435\n",
       "fr       9\n",
       "es       9\n",
       "zh       7\n",
       "ja       5\n",
       "de       5\n",
       "hi       4\n",
       "ko       3\n",
       "pt       2\n",
       "id       2\n",
       "cn       1\n",
       "th       1\n",
       "ru       1\n",
       "nl       1\n",
       "nb       1\n",
       "af       1\n",
       "ar       1\n",
       "it       1\n",
       "no       1\n",
       "el       1\n",
       "fa       1\n",
       "Name: language, dtype: int64"
      ]
     },
     "execution_count": 28,
     "metadata": {},
     "output_type": "execute_result"
    }
   ],
   "source": [
    "#inspect the language column\n",
    "merged['language'].value_counts()"
   ]
  },
  {
   "cell_type": "markdown",
   "id": "5c5f7d48",
   "metadata": {},
   "source": [
    "Change the date column to only year"
   ]
  },
  {
   "cell_type": "code",
   "execution_count": 29,
   "id": "a487e69f",
   "metadata": {
    "scrolled": true
   },
   "outputs": [
    {
     "data": {
      "text/plain": [
       "0       2009\n",
       "1       2007\n",
       "2       2015\n",
       "3       2012\n",
       "4       2012\n",
       "        ... \n",
       "4765    1994\n",
       "4773    2013\n",
       "4783    2007\n",
       "4788    2004\n",
       "4793    2012\n",
       "Name: release_year, Length: 1492, dtype: int64"
      ]
     },
     "execution_count": 29,
     "metadata": {},
     "output_type": "execute_result"
    }
   ],
   "source": [
    "#add release year column\n",
    "merged['release_year'] = pd.DatetimeIndex(merged['release_date']).year\n",
    "merged['release_year']"
   ]
  },
  {
   "cell_type": "code",
   "execution_count": 30,
   "id": "651d8f06",
   "metadata": {},
   "outputs": [],
   "source": [
    "#drop the release date column\n",
    "merged.drop(['release_date'], axis=1, inplace=True)"
   ]
  },
  {
   "cell_type": "markdown",
   "id": "7289967c",
   "metadata": {},
   "source": [
    "- The Genre, Production Company and Production Country columns all lists nested in strings\n",
    "- The function below turns strings into proper lists, and stores the names in the lists only"
   ]
  },
  {
   "cell_type": "code",
   "execution_count": 31,
   "id": "f48e6424",
   "metadata": {},
   "outputs": [],
   "source": [
    "def get_clean_column(x):\n",
    "    clean_genres = []\n",
    "    for i in ast.literal_eval(x):\n",
    "        clean_genres.append(i['name'])\n",
    "    return clean_genres"
   ]
  },
  {
   "cell_type": "code",
   "execution_count": 32,
   "id": "2b8c65b1",
   "metadata": {},
   "outputs": [],
   "source": [
    "# Clean the genre, production Company and production Country columns \n",
    "\n",
    "merged['genres'] = merged['genres'].apply(lambda x: get_clean_column(x))\n",
    "merged['production_companies'] = merged['production_companies'].apply(lambda x: get_clean_column(x))\n",
    "merged['production_countries'] = merged['production_countries'].apply(lambda x: get_clean_column(x))"
   ]
  },
  {
   "cell_type": "code",
   "execution_count": 33,
   "id": "5dee7176",
   "metadata": {},
   "outputs": [],
   "source": [
    "# Only interested in the first character which is the main character) in the list\n",
    "# Only getting character name, real name and gender of the cast member\n",
    "\n",
    "def get_clean_cast(x):\n",
    "    clean_cast = []\n",
    "    for i in ast.literal_eval(x)[:1]:\n",
    "        clean_cast_dic = {'name': i['name'],                        \n",
    "                        'gender': i['gender']}\n",
    "        clean_cast.append(clean_cast_dic)\n",
    "    return clean_cast"
   ]
  },
  {
   "cell_type": "code",
   "execution_count": 34,
   "id": "dfa89179",
   "metadata": {},
   "outputs": [],
   "source": [
    "# Clean the cast \n",
    "merged['cast'] = merged['cast'].apply(lambda x: get_clean_cast(x))"
   ]
  },
  {
   "cell_type": "code",
   "execution_count": 35,
   "id": "49580e6e",
   "metadata": {},
   "outputs": [],
   "source": [
    "# Crew column changed to show only the number of crew members\n",
    "merged['crew'] = merged['crew'].apply(lambda x: len(ast.literal_eval(x)))"
   ]
  },
  {
   "cell_type": "code",
   "execution_count": 36,
   "id": "91bc54a5",
   "metadata": {},
   "outputs": [],
   "source": [
    "# Get lead character's gender\n",
    "\n",
    "def get_gender(x):\n",
    "    if x:\n",
    "        if x[0]['gender'] == 1:\n",
    "            return 'Female'\n",
    "        elif x[0]['gender'] == 2:\n",
    "            return 'Male'\n",
    "        else:\n",
    "            return 'Neither'\n",
    "    else:\n",
    "        return 'Neither'"
   ]
  },
  {
   "cell_type": "code",
   "execution_count": 37,
   "id": "5efd7f19",
   "metadata": {},
   "outputs": [
    {
     "data": {
      "text/html": [
       "<div>\n",
       "<style scoped>\n",
       "    .dataframe tbody tr th:only-of-type {\n",
       "        vertical-align: middle;\n",
       "    }\n",
       "\n",
       "    .dataframe tbody tr th {\n",
       "        vertical-align: top;\n",
       "    }\n",
       "\n",
       "    .dataframe thead th {\n",
       "        text-align: right;\n",
       "    }\n",
       "</style>\n",
       "<table border=\"1\" class=\"dataframe\">\n",
       "  <thead>\n",
       "    <tr style=\"text-align: right;\">\n",
       "      <th></th>\n",
       "      <th>title</th>\n",
       "      <th>lead_gender</th>\n",
       "    </tr>\n",
       "  </thead>\n",
       "  <tbody>\n",
       "    <tr>\n",
       "      <th>0</th>\n",
       "      <td>Avatar</td>\n",
       "      <td>Male</td>\n",
       "    </tr>\n",
       "    <tr>\n",
       "      <th>1</th>\n",
       "      <td>Pirates of the Caribbean: At World's End</td>\n",
       "      <td>Male</td>\n",
       "    </tr>\n",
       "    <tr>\n",
       "      <th>2</th>\n",
       "      <td>Spectre</td>\n",
       "      <td>Male</td>\n",
       "    </tr>\n",
       "    <tr>\n",
       "      <th>3</th>\n",
       "      <td>The Dark Knight Rises</td>\n",
       "      <td>Male</td>\n",
       "    </tr>\n",
       "    <tr>\n",
       "      <th>4</th>\n",
       "      <td>John Carter</td>\n",
       "      <td>Male</td>\n",
       "    </tr>\n",
       "    <tr>\n",
       "      <th>5</th>\n",
       "      <td>Spider-Man 3</td>\n",
       "      <td>Male</td>\n",
       "    </tr>\n",
       "    <tr>\n",
       "      <th>6</th>\n",
       "      <td>Tangled</td>\n",
       "      <td>Male</td>\n",
       "    </tr>\n",
       "    <tr>\n",
       "      <th>7</th>\n",
       "      <td>Avengers: Age of Ultron</td>\n",
       "      <td>Male</td>\n",
       "    </tr>\n",
       "    <tr>\n",
       "      <th>8</th>\n",
       "      <td>Harry Potter and the Half-Blood Prince</td>\n",
       "      <td>Male</td>\n",
       "    </tr>\n",
       "    <tr>\n",
       "      <th>9</th>\n",
       "      <td>Batman v Superman: Dawn of Justice</td>\n",
       "      <td>Male</td>\n",
       "    </tr>\n",
       "    <tr>\n",
       "      <th>11</th>\n",
       "      <td>Quantum of Solace</td>\n",
       "      <td>Male</td>\n",
       "    </tr>\n",
       "    <tr>\n",
       "      <th>12</th>\n",
       "      <td>Pirates of the Caribbean: Dead Man's Chest</td>\n",
       "      <td>Male</td>\n",
       "    </tr>\n",
       "    <tr>\n",
       "      <th>13</th>\n",
       "      <td>The Lone Ranger</td>\n",
       "      <td>Male</td>\n",
       "    </tr>\n",
       "    <tr>\n",
       "      <th>14</th>\n",
       "      <td>Man of Steel</td>\n",
       "      <td>Male</td>\n",
       "    </tr>\n",
       "    <tr>\n",
       "      <th>16</th>\n",
       "      <td>The Avengers</td>\n",
       "      <td>Male</td>\n",
       "    </tr>\n",
       "    <tr>\n",
       "      <th>17</th>\n",
       "      <td>Pirates of the Caribbean: On Stranger Tides</td>\n",
       "      <td>Male</td>\n",
       "    </tr>\n",
       "    <tr>\n",
       "      <th>18</th>\n",
       "      <td>Men in Black 3</td>\n",
       "      <td>Male</td>\n",
       "    </tr>\n",
       "    <tr>\n",
       "      <th>19</th>\n",
       "      <td>The Hobbit: The Battle of the Five Armies</td>\n",
       "      <td>Male</td>\n",
       "    </tr>\n",
       "    <tr>\n",
       "      <th>20</th>\n",
       "      <td>The Amazing Spider-Man</td>\n",
       "      <td>Male</td>\n",
       "    </tr>\n",
       "    <tr>\n",
       "      <th>21</th>\n",
       "      <td>Robin Hood</td>\n",
       "      <td>Male</td>\n",
       "    </tr>\n",
       "    <tr>\n",
       "      <th>22</th>\n",
       "      <td>The Hobbit: The Desolation of Smaug</td>\n",
       "      <td>Male</td>\n",
       "    </tr>\n",
       "    <tr>\n",
       "      <th>23</th>\n",
       "      <td>The Golden Compass</td>\n",
       "      <td>Female</td>\n",
       "    </tr>\n",
       "    <tr>\n",
       "      <th>25</th>\n",
       "      <td>Titanic</td>\n",
       "      <td>Female</td>\n",
       "    </tr>\n",
       "    <tr>\n",
       "      <th>26</th>\n",
       "      <td>Captain America: Civil War</td>\n",
       "      <td>Male</td>\n",
       "    </tr>\n",
       "    <tr>\n",
       "      <th>28</th>\n",
       "      <td>Jurassic World</td>\n",
       "      <td>Male</td>\n",
       "    </tr>\n",
       "    <tr>\n",
       "      <th>29</th>\n",
       "      <td>Skyfall</td>\n",
       "      <td>Male</td>\n",
       "    </tr>\n",
       "    <tr>\n",
       "      <th>30</th>\n",
       "      <td>Spider-Man 2</td>\n",
       "      <td>Male</td>\n",
       "    </tr>\n",
       "    <tr>\n",
       "      <th>31</th>\n",
       "      <td>Iron Man 3</td>\n",
       "      <td>Male</td>\n",
       "    </tr>\n",
       "    <tr>\n",
       "      <th>32</th>\n",
       "      <td>Alice in Wonderland</td>\n",
       "      <td>Female</td>\n",
       "    </tr>\n",
       "    <tr>\n",
       "      <th>35</th>\n",
       "      <td>Transformers: Revenge of the Fallen</td>\n",
       "      <td>Male</td>\n",
       "    </tr>\n",
       "  </tbody>\n",
       "</table>\n",
       "</div>"
      ],
      "text/plain": [
       "                                          title lead_gender\n",
       "0                                        Avatar        Male\n",
       "1      Pirates of the Caribbean: At World's End        Male\n",
       "2                                       Spectre        Male\n",
       "3                         The Dark Knight Rises        Male\n",
       "4                                   John Carter        Male\n",
       "5                                  Spider-Man 3        Male\n",
       "6                                       Tangled        Male\n",
       "7                       Avengers: Age of Ultron        Male\n",
       "8        Harry Potter and the Half-Blood Prince        Male\n",
       "9            Batman v Superman: Dawn of Justice        Male\n",
       "11                            Quantum of Solace        Male\n",
       "12   Pirates of the Caribbean: Dead Man's Chest        Male\n",
       "13                              The Lone Ranger        Male\n",
       "14                                 Man of Steel        Male\n",
       "16                                 The Avengers        Male\n",
       "17  Pirates of the Caribbean: On Stranger Tides        Male\n",
       "18                               Men in Black 3        Male\n",
       "19    The Hobbit: The Battle of the Five Armies        Male\n",
       "20                       The Amazing Spider-Man        Male\n",
       "21                                   Robin Hood        Male\n",
       "22          The Hobbit: The Desolation of Smaug        Male\n",
       "23                           The Golden Compass      Female\n",
       "25                                      Titanic      Female\n",
       "26                   Captain America: Civil War        Male\n",
       "28                               Jurassic World        Male\n",
       "29                                      Skyfall        Male\n",
       "30                                 Spider-Man 2        Male\n",
       "31                                   Iron Man 3        Male\n",
       "32                          Alice in Wonderland      Female\n",
       "35          Transformers: Revenge of the Fallen        Male"
      ]
     },
     "execution_count": 37,
     "metadata": {},
     "output_type": "execute_result"
    }
   ],
   "source": [
    "merged['lead_gender'] = merged['cast'].apply(lambda x: get_gender(x))\n",
    "merged[['title', 'lead_gender']].head(30)"
   ]
  },
  {
   "cell_type": "code",
   "execution_count": 38,
   "id": "7a125750",
   "metadata": {
    "scrolled": true
   },
   "outputs": [
    {
     "data": {
      "text/html": [
       "<div>\n",
       "<style scoped>\n",
       "    .dataframe tbody tr th:only-of-type {\n",
       "        vertical-align: middle;\n",
       "    }\n",
       "\n",
       "    .dataframe tbody tr th {\n",
       "        vertical-align: top;\n",
       "    }\n",
       "\n",
       "    .dataframe thead th {\n",
       "        text-align: right;\n",
       "    }\n",
       "</style>\n",
       "<table border=\"1\" class=\"dataframe\">\n",
       "  <thead>\n",
       "    <tr style=\"text-align: right;\">\n",
       "      <th></th>\n",
       "      <th>budget</th>\n",
       "      <th>genres</th>\n",
       "      <th>language</th>\n",
       "      <th>title</th>\n",
       "      <th>popularity</th>\n",
       "      <th>production_companies</th>\n",
       "      <th>production_countries</th>\n",
       "      <th>revenue</th>\n",
       "      <th>runtime</th>\n",
       "      <th>vote_average</th>\n",
       "      <th>cast</th>\n",
       "      <th>crew</th>\n",
       "      <th>release_year</th>\n",
       "      <th>lead_gender</th>\n",
       "    </tr>\n",
       "  </thead>\n",
       "  <tbody>\n",
       "    <tr>\n",
       "      <th>0</th>\n",
       "      <td>237000000</td>\n",
       "      <td>[Action, Adventure, Fantasy, Science Fiction]</td>\n",
       "      <td>en</td>\n",
       "      <td>Avatar</td>\n",
       "      <td>150.437577</td>\n",
       "      <td>[Ingenious Film Partners, Twentieth Century Fo...</td>\n",
       "      <td>[United States of America, United Kingdom]</td>\n",
       "      <td>2787965087</td>\n",
       "      <td>162.0</td>\n",
       "      <td>7.2</td>\n",
       "      <td>[{'name': 'Sam Worthington', 'gender': 2}]</td>\n",
       "      <td>153</td>\n",
       "      <td>2009</td>\n",
       "      <td>Male</td>\n",
       "    </tr>\n",
       "  </tbody>\n",
       "</table>\n",
       "</div>"
      ],
      "text/plain": [
       "      budget                                         genres language   title  \\\n",
       "0  237000000  [Action, Adventure, Fantasy, Science Fiction]       en  Avatar   \n",
       "\n",
       "   popularity                               production_companies  \\\n",
       "0  150.437577  [Ingenious Film Partners, Twentieth Century Fo...   \n",
       "\n",
       "                         production_countries     revenue  runtime  \\\n",
       "0  [United States of America, United Kingdom]  2787965087    162.0   \n",
       "\n",
       "   vote_average                                        cast  crew  \\\n",
       "0           7.2  [{'name': 'Sam Worthington', 'gender': 2}]   153   \n",
       "\n",
       "   release_year lead_gender  \n",
       "0          2009        Male  "
      ]
     },
     "execution_count": 38,
     "metadata": {},
     "output_type": "execute_result"
    }
   ],
   "source": [
    "merged.head(1)"
   ]
  },
  {
   "cell_type": "code",
   "execution_count": 39,
   "id": "b86f2e36",
   "metadata": {},
   "outputs": [],
   "source": [
    "#Save the datset after it has beeb cleaned\n",
    "merged.to_csv('cleaned_df.csv', index=False)"
   ]
  },
  {
   "cell_type": "markdown",
   "id": "980cbcd0",
   "metadata": {},
   "source": [
    "## Exploratory Data Analysis"
   ]
  },
  {
   "cell_type": "code",
   "execution_count": 40,
   "id": "ede6b496",
   "metadata": {},
   "outputs": [],
   "source": [
    "#Load clean merged dataset\n",
    "cleaned_df = pd.read_csv('cleaned_df.csv')"
   ]
  },
  {
   "cell_type": "markdown",
   "id": "6c6002aa",
   "metadata": {},
   "source": [
    "Create a profit column to know the grossing movies"
   ]
  },
  {
   "cell_type": "code",
   "execution_count": 41,
   "id": "c5ee163b",
   "metadata": {},
   "outputs": [],
   "source": [
    "#add the profit column to the table\n",
    "cleaned_df['profit'] = cleaned_df['revenue'] - cleaned_df['budget']"
   ]
  },
  {
   "cell_type": "code",
   "execution_count": 42,
   "id": "1f9d5a54",
   "metadata": {},
   "outputs": [
    {
     "data": {
      "text/html": [
       "<div>\n",
       "<style scoped>\n",
       "    .dataframe tbody tr th:only-of-type {\n",
       "        vertical-align: middle;\n",
       "    }\n",
       "\n",
       "    .dataframe tbody tr th {\n",
       "        vertical-align: top;\n",
       "    }\n",
       "\n",
       "    .dataframe thead th {\n",
       "        text-align: right;\n",
       "    }\n",
       "</style>\n",
       "<table border=\"1\" class=\"dataframe\">\n",
       "  <thead>\n",
       "    <tr style=\"text-align: right;\">\n",
       "      <th></th>\n",
       "      <th>budget</th>\n",
       "      <th>popularity</th>\n",
       "      <th>revenue</th>\n",
       "      <th>runtime</th>\n",
       "      <th>vote_average</th>\n",
       "      <th>crew</th>\n",
       "      <th>release_year</th>\n",
       "      <th>profit</th>\n",
       "    </tr>\n",
       "  </thead>\n",
       "  <tbody>\n",
       "    <tr>\n",
       "      <th>count</th>\n",
       "      <td>1.492000e+03</td>\n",
       "      <td>1492.000000</td>\n",
       "      <td>1.492000e+03</td>\n",
       "      <td>1492.000000</td>\n",
       "      <td>1492.000000</td>\n",
       "      <td>1492.000000</td>\n",
       "      <td>1492.000000</td>\n",
       "      <td>1.492000e+03</td>\n",
       "    </tr>\n",
       "    <tr>\n",
       "      <th>mean</th>\n",
       "      <td>4.592610e+07</td>\n",
       "      <td>35.773116</td>\n",
       "      <td>1.551122e+08</td>\n",
       "      <td>108.670912</td>\n",
       "      <td>6.274196</td>\n",
       "      <td>36.780831</td>\n",
       "      <td>2007.547587</td>\n",
       "      <td>1.091861e+08</td>\n",
       "    </tr>\n",
       "    <tr>\n",
       "      <th>std</th>\n",
       "      <td>5.369703e+07</td>\n",
       "      <td>48.214887</td>\n",
       "      <td>2.409185e+08</td>\n",
       "      <td>19.378565</td>\n",
       "      <td>0.969459</td>\n",
       "      <td>37.520693</td>\n",
       "      <td>8.326246</td>\n",
       "      <td>2.040953e+08</td>\n",
       "    </tr>\n",
       "    <tr>\n",
       "      <th>min</th>\n",
       "      <td>0.000000e+00</td>\n",
       "      <td>0.023681</td>\n",
       "      <td>0.000000e+00</td>\n",
       "      <td>0.000000</td>\n",
       "      <td>0.000000</td>\n",
       "      <td>0.000000</td>\n",
       "      <td>1937.000000</td>\n",
       "      <td>-1.657101e+08</td>\n",
       "    </tr>\n",
       "    <tr>\n",
       "      <th>25%</th>\n",
       "      <td>7.500000e+06</td>\n",
       "      <td>11.633720</td>\n",
       "      <td>9.473596e+06</td>\n",
       "      <td>95.000000</td>\n",
       "      <td>5.800000</td>\n",
       "      <td>12.000000</td>\n",
       "      <td>2006.000000</td>\n",
       "      <td>0.000000e+00</td>\n",
       "    </tr>\n",
       "    <tr>\n",
       "      <th>50%</th>\n",
       "      <td>2.700000e+07</td>\n",
       "      <td>25.281258</td>\n",
       "      <td>6.258280e+07</td>\n",
       "      <td>106.000000</td>\n",
       "      <td>6.300000</td>\n",
       "      <td>22.000000</td>\n",
       "      <td>2009.000000</td>\n",
       "      <td>3.139374e+07</td>\n",
       "    </tr>\n",
       "    <tr>\n",
       "      <th>75%</th>\n",
       "      <td>6.325000e+07</td>\n",
       "      <td>45.150375</td>\n",
       "      <td>1.860821e+08</td>\n",
       "      <td>120.000000</td>\n",
       "      <td>6.900000</td>\n",
       "      <td>49.000000</td>\n",
       "      <td>2012.000000</td>\n",
       "      <td>1.261194e+08</td>\n",
       "    </tr>\n",
       "    <tr>\n",
       "      <th>max</th>\n",
       "      <td>3.800000e+08</td>\n",
       "      <td>875.581305</td>\n",
       "      <td>2.787965e+09</td>\n",
       "      <td>201.000000</td>\n",
       "      <td>8.400000</td>\n",
       "      <td>435.000000</td>\n",
       "      <td>2017.000000</td>\n",
       "      <td>2.550965e+09</td>\n",
       "    </tr>\n",
       "  </tbody>\n",
       "</table>\n",
       "</div>"
      ],
      "text/plain": [
       "             budget   popularity       revenue      runtime  vote_average  \\\n",
       "count  1.492000e+03  1492.000000  1.492000e+03  1492.000000   1492.000000   \n",
       "mean   4.592610e+07    35.773116  1.551122e+08   108.670912      6.274196   \n",
       "std    5.369703e+07    48.214887  2.409185e+08    19.378565      0.969459   \n",
       "min    0.000000e+00     0.023681  0.000000e+00     0.000000      0.000000   \n",
       "25%    7.500000e+06    11.633720  9.473596e+06    95.000000      5.800000   \n",
       "50%    2.700000e+07    25.281258  6.258280e+07   106.000000      6.300000   \n",
       "75%    6.325000e+07    45.150375  1.860821e+08   120.000000      6.900000   \n",
       "max    3.800000e+08   875.581305  2.787965e+09   201.000000      8.400000   \n",
       "\n",
       "              crew  release_year        profit  \n",
       "count  1492.000000   1492.000000  1.492000e+03  \n",
       "mean     36.780831   2007.547587  1.091861e+08  \n",
       "std      37.520693      8.326246  2.040953e+08  \n",
       "min       0.000000   1937.000000 -1.657101e+08  \n",
       "25%      12.000000   2006.000000  0.000000e+00  \n",
       "50%      22.000000   2009.000000  3.139374e+07  \n",
       "75%      49.000000   2012.000000  1.261194e+08  \n",
       "max     435.000000   2017.000000  2.550965e+09  "
      ]
     },
     "execution_count": 42,
     "metadata": {},
     "output_type": "execute_result"
    }
   ],
   "source": [
    "#check if the new column is there\n",
    "cleaned_df.head(1)\n",
    "cleaned_df.describe()"
   ]
  },
  {
   "cell_type": "markdown",
   "id": "f98498a5",
   "metadata": {},
   "source": [
    "   ### Question 1) What kinds of properties are associated with movies that have high revenues?"
   ]
  },
  {
   "cell_type": "code",
   "execution_count": 46,
   "id": "ee5e1e1d",
   "metadata": {
    "scrolled": true
   },
   "outputs": [
    {
     "data": {
      "image/png": "[encoded data removed]",
      "text/plain": [
       "<Figure size 432x288 with 1 Axes>"
      ]
     },
     "metadata": {
      "needs_background": "light"
     },
     "output_type": "display_data"
    },
    {
     "data": {
      "image/png": "[encoded data removed]",
      "text/plain": [
       "<Figure size 432x288 with 1 Axes>"
      ]
     },
     "metadata": {
      "needs_background": "light"
     },
     "output_type": "display_data"
    },
    {
     "data": {
      "image/png": "[encoded data removed]",
      "text/plain": [
       "<Figure size 432x288 with 1 Axes>"
      ]
     },
     "metadata": {
      "needs_background": "light"
     },
     "output_type": "display_data"
    }
   ],
   "source": [
    "# get a chart of revenue against other columns\n",
    "cleaned_df.plot(x=\"popularity\", y=\"revenue\", title='Revenue against Popularity', kind=\"scatter\");\n",
    "cleaned_df.plot(x=\"runtime\", y=\"revenue\", title='Revenue against Runtime', kind=\"scatter\");\n",
    "cleaned_df.plot(x=\"vote_average\", y=\"revenue\", title='Revenue against Vote_average', kind=\"scatter\");"
   ]
  },
  {
   "cell_type": "markdown",
   "id": "41880563",
   "metadata": {},
   "source": [
    "From the visual exploration above it is seen that the high revenue movies are popular, have average runtime and has the  left skewed vote. "
   ]
  },
  {
   "cell_type": "markdown",
   "id": "28251cac",
   "metadata": {},
   "source": [
    "  ### Question  2) How does the budget relate to Revenue?\n"
   ]
  },
  {
   "cell_type": "code",
   "execution_count": 52,
   "id": "9f3000c3",
   "metadata": {
    "scrolled": true
   },
   "outputs": [
    {
     "data": {
      "image/png": "[encoded data removed]",
      "text/plain": [
       "<Figure size 432x288 with 1 Axes>"
      ]
     },
     "metadata": {
      "needs_background": "light"
     },
     "output_type": "display_data"
    }
   ],
   "source": [
    "#explore the budget and revenue chart\n",
    "x = cleaned_df['budget']\n",
    "y = cleaned_df['revenue']\n",
    "plt.scatter(x, y)\n",
    "plt.title(\"Budget against Revenue\")\n",
    "plt.xlabel(\"Budget\")\n",
    "plt.ylabel(\"Revenue\")\n",
    "z = np.polyfit(x, y, 1)\n",
    "p = np.poly1d(z)\n",
    "plt.plot(x,p(x),\"r--\")\n",
    "\n",
    "plt.show()"
   ]
  },
  {
   "cell_type": "markdown",
   "id": "1c1f7077",
   "metadata": {},
   "source": [
    "The visual above shows there is a positve correleration between the budget and the venue. the higer the budget, the higher the revenue."
   ]
  },
  {
   "cell_type": "markdown",
   "id": "a308b1c8",
   "metadata": {},
   "source": [
    " ### Question 3) What are the characteristics of popular movies?"
   ]
  },
  {
   "cell_type": "code",
   "execution_count": 48,
   "id": "5381e6c7",
   "metadata": {},
   "outputs": [
    {
     "data": {
      "text/html": [
       "<div>\n",
       "<style scoped>\n",
       "    .dataframe tbody tr th:only-of-type {\n",
       "        vertical-align: middle;\n",
       "    }\n",
       "\n",
       "    .dataframe tbody tr th {\n",
       "        vertical-align: top;\n",
       "    }\n",
       "\n",
       "    .dataframe thead th {\n",
       "        text-align: right;\n",
       "    }\n",
       "</style>\n",
       "<table border=\"1\" class=\"dataframe\">\n",
       "  <thead>\n",
       "    <tr style=\"text-align: right;\">\n",
       "      <th></th>\n",
       "      <th>title</th>\n",
       "      <th>popularity</th>\n",
       "    </tr>\n",
       "  </thead>\n",
       "  <tbody>\n",
       "    <tr>\n",
       "      <th>314</th>\n",
       "      <td>Minions</td>\n",
       "      <td>875.581305</td>\n",
       "    </tr>\n",
       "    <tr>\n",
       "      <th>76</th>\n",
       "      <td>Interstellar</td>\n",
       "      <td>724.247784</td>\n",
       "    </tr>\n",
       "    <tr>\n",
       "      <th>428</th>\n",
       "      <td>Deadpool</td>\n",
       "      <td>514.569956</td>\n",
       "    </tr>\n",
       "    <tr>\n",
       "      <th>75</th>\n",
       "      <td>Guardians of the Galaxy</td>\n",
       "      <td>481.098624</td>\n",
       "    </tr>\n",
       "    <tr>\n",
       "      <th>101</th>\n",
       "      <td>Mad Max: Fury Road</td>\n",
       "      <td>434.278564</td>\n",
       "    </tr>\n",
       "    <tr>\n",
       "      <th>24</th>\n",
       "      <td>Jurassic World</td>\n",
       "      <td>418.708552</td>\n",
       "    </tr>\n",
       "    <tr>\n",
       "      <th>146</th>\n",
       "      <td>Pirates of the Caribbean: The Curse of the Bla...</td>\n",
       "      <td>271.972889</td>\n",
       "    </tr>\n",
       "    <tr>\n",
       "      <th>67</th>\n",
       "      <td>Dawn of the Planet of the Apes</td>\n",
       "      <td>243.791743</td>\n",
       "    </tr>\n",
       "    <tr>\n",
       "      <th>147</th>\n",
       "      <td>The Hunger Games: Mockingjay - Part 1</td>\n",
       "      <td>206.227151</td>\n",
       "    </tr>\n",
       "    <tr>\n",
       "      <th>71</th>\n",
       "      <td>Big Hero 6</td>\n",
       "      <td>203.734590</td>\n",
       "    </tr>\n",
       "  </tbody>\n",
       "</table>\n",
       "</div>"
      ],
      "text/plain": [
       "                                                 title  popularity\n",
       "314                                            Minions  875.581305\n",
       "76                                        Interstellar  724.247784\n",
       "428                                           Deadpool  514.569956\n",
       "75                             Guardians of the Galaxy  481.098624\n",
       "101                                 Mad Max: Fury Road  434.278564\n",
       "24                                      Jurassic World  418.708552\n",
       "146  Pirates of the Caribbean: The Curse of the Bla...  271.972889\n",
       "67                      Dawn of the Planet of the Apes  243.791743\n",
       "147              The Hunger Games: Mockingjay - Part 1  206.227151\n",
       "71                                          Big Hero 6  203.734590"
      ]
     },
     "execution_count": 48,
     "metadata": {},
     "output_type": "execute_result"
    }
   ],
   "source": [
    "# create the title against popularity table\n",
    "top_10 = cleaned_df.nlargest(10,\"popularity\")[[\"title\",\"popularity\"]]\n",
    "top_10"
   ]
  },
  {
   "cell_type": "code",
   "execution_count": 51,
   "id": "6f2c55c3",
   "metadata": {
    "scrolled": false
   },
   "outputs": [
    {
     "data": {
      "image/png": "[encoded data removed]",
      "text/plain": [
       "<Figure size 648x432 with 1 Axes>"
      ]
     },
     "metadata": {
      "needs_background": "light"
     },
     "output_type": "display_data"
    }
   ],
   "source": [
    "# get the chart of the title against popularity\n",
    "top_10.groupby(\"title\")[\"popularity\"].sum().sort_values().plot(kind=\"barh\",\n",
    "                                                                                 rot = 0,\n",
    "                                                                                 width = 0.35,\n",
    "                                                                                 color=[\"b\"],\n",
    "                                                                                 alpha = 0.8,\n",
    "                                                                                 fontsize = 12,\n",
    "                                                                                 figsize=(9,6),\n",
    "                                                                                 )\n",
    "\n",
    "plt.ylabel(\"Movie Name\",fontsize=15, color=\"k\")\n",
    "plt.xlabel(\"Movie Popularity\",fontsize=15, color=\"k\")\n",
    "plt.legend(loc=\"lower right\")\n",
    "plt.title(\"Top 10 Most Popular Movies\", fontsize=18, color=\"k\");"
   ]
  },
  {
   "cell_type": "code",
   "execution_count": 54,
   "id": "59149551",
   "metadata": {},
   "outputs": [],
   "source": [
    "import seaborn as sns"
   ]
  },
  {
   "cell_type": "code",
   "execution_count": 57,
   "id": "ba52395f",
   "metadata": {},
   "outputs": [
    {
     "data": {
      "image/png": "[encoded data removed]",
      "text/plain": [
       "<Figure size 648x432 with 2 Axes>"
      ]
     },
     "metadata": {
      "needs_background": "light"
     },
     "output_type": "display_data"
    }
   ],
   "source": [
    "# get the correlation matrix of the columns\n",
    "matrix = cleaned_df.corr() \n",
    "f, ax = plt.subplots(figsize=(9, 6)) \n",
    "ax.set_title('Data Correlations')\n",
    "sns.heatmap(matrix, vmax=.8, square=True, cmap=\"BuPu\");"
   ]
  },
  {
   "cell_type": "code",
   "execution_count": 58,
   "id": "5f6db48b",
   "metadata": {
    "scrolled": true
   },
   "outputs": [
    {
     "data": {
      "image/png": "[encoded data removed]",
      "text/plain": [
       "<Figure size 432x288 with 1 Axes>"
      ]
     },
     "metadata": {
      "needs_background": "light"
     },
     "output_type": "display_data"
    }
   ],
   "source": [
    "# get the plot of runtime against popularity\n",
    "cleaned_df.plot(x=\"runtime\", y=\"popularity\", kind=\"scatter\");"
   ]
  },
  {
   "cell_type": "markdown",
   "id": "051c7b4c",
   "metadata": {},
   "source": [
    "The visual above showed that the popular movies have average runtime, high revenue and high budget."
   ]
  },
  {
   "cell_type": "markdown",
   "id": "f67d9b1c",
   "metadata": {},
   "source": [
    "### Question 4) Which is the top 10 highest budget movies"
   ]
  },
  {
   "cell_type": "code",
   "execution_count": 59,
   "id": "54a25a54",
   "metadata": {},
   "outputs": [
    {
     "data": {
      "text/html": [
       "<div>\n",
       "<style scoped>\n",
       "    .dataframe tbody tr th:only-of-type {\n",
       "        vertical-align: middle;\n",
       "    }\n",
       "\n",
       "    .dataframe tbody tr th {\n",
       "        vertical-align: top;\n",
       "    }\n",
       "\n",
       "    .dataframe thead th {\n",
       "        text-align: right;\n",
       "    }\n",
       "</style>\n",
       "<table border=\"1\" class=\"dataframe\">\n",
       "  <thead>\n",
       "    <tr style=\"text-align: right;\">\n",
       "      <th></th>\n",
       "      <th>title</th>\n",
       "      <th>budget</th>\n",
       "    </tr>\n",
       "  </thead>\n",
       "  <tbody>\n",
       "    <tr>\n",
       "      <th>15</th>\n",
       "      <td>Pirates of the Caribbean: On Stranger Tides</td>\n",
       "      <td>380000000</td>\n",
       "    </tr>\n",
       "    <tr>\n",
       "      <th>1</th>\n",
       "      <td>Pirates of the Caribbean: At World's End</td>\n",
       "      <td>300000000</td>\n",
       "    </tr>\n",
       "    <tr>\n",
       "      <th>7</th>\n",
       "      <td>Avengers: Age of Ultron</td>\n",
       "      <td>280000000</td>\n",
       "    </tr>\n",
       "    <tr>\n",
       "      <th>4</th>\n",
       "      <td>John Carter</td>\n",
       "      <td>260000000</td>\n",
       "    </tr>\n",
       "    <tr>\n",
       "      <th>6</th>\n",
       "      <td>Tangled</td>\n",
       "      <td>260000000</td>\n",
       "    </tr>\n",
       "    <tr>\n",
       "      <th>5</th>\n",
       "      <td>Spider-Man 3</td>\n",
       "      <td>258000000</td>\n",
       "    </tr>\n",
       "    <tr>\n",
       "      <th>12</th>\n",
       "      <td>The Lone Ranger</td>\n",
       "      <td>255000000</td>\n",
       "    </tr>\n",
       "    <tr>\n",
       "      <th>3</th>\n",
       "      <td>The Dark Knight Rises</td>\n",
       "      <td>250000000</td>\n",
       "    </tr>\n",
       "    <tr>\n",
       "      <th>8</th>\n",
       "      <td>Harry Potter and the Half-Blood Prince</td>\n",
       "      <td>250000000</td>\n",
       "    </tr>\n",
       "    <tr>\n",
       "      <th>9</th>\n",
       "      <td>Batman v Superman: Dawn of Justice</td>\n",
       "      <td>250000000</td>\n",
       "    </tr>\n",
       "  </tbody>\n",
       "</table>\n",
       "</div>"
      ],
      "text/plain": [
       "                                          title     budget\n",
       "15  Pirates of the Caribbean: On Stranger Tides  380000000\n",
       "1      Pirates of the Caribbean: At World's End  300000000\n",
       "7                       Avengers: Age of Ultron  280000000\n",
       "4                                   John Carter  260000000\n",
       "6                                       Tangled  260000000\n",
       "5                                  Spider-Man 3  258000000\n",
       "12                              The Lone Ranger  255000000\n",
       "3                         The Dark Knight Rises  250000000\n",
       "8        Harry Potter and the Half-Blood Prince  250000000\n",
       "9            Batman v Superman: Dawn of Justice  250000000"
      ]
     },
     "execution_count": 59,
     "metadata": {},
     "output_type": "execute_result"
    }
   ],
   "source": [
    "# a view of title agaist the budget \n",
    "top_10 = cleaned_df.nlargest(10,\"budget\")[[\"title\",\"budget\"]]\n",
    "top_10"
   ]
  },
  {
   "cell_type": "code",
   "execution_count": 61,
   "id": "001c9d88",
   "metadata": {
    "scrolled": true
   },
   "outputs": [
    {
     "data": {
      "image/png": "[encoded data removed]",
      "text/plain": [
       "<Figure size 648x432 with 1 Axes>"
      ]
     },
     "metadata": {
      "needs_background": "light"
     },
     "output_type": "display_data"
    }
   ],
   "source": [
    "#a graph of title against the budget\n",
    "top_10.groupby(\"title\")[\"budget\"].sum().sort_values().plot(kind=\"barh\",\n",
    "                                                                                 rot = 0,\n",
    "                                                                                 width = 0.35,\n",
    "                                                                                 color=[\"b\"],\n",
    "                                                                                 alpha = 0.8,\n",
    "                                                                                 fontsize = 12,\n",
    "                                                                                 figsize=(9,6),\n",
    "                                                                                 )\n",
    "\n",
    "plt.ylabel(\"Movie Name\",fontsize=15, color=\"k\")\n",
    "plt.xlabel(\"Movie Budget\",fontsize=15, color=\"k\")\n",
    "plt.legend(loc=\"lower right\")\n",
    "plt.title(\"Top 10 Highest Budget Movies\", fontsize=18, color=\"k\");"
   ]
  },
  {
   "cell_type": "markdown",
   "id": "7ec2741f",
   "metadata": {},
   "source": [
    "The top 10 movies with the highest movies are shown in the above visual"
   ]
  },
  {
   "cell_type": "markdown",
   "id": "d9258362",
   "metadata": {},
   "source": [
    "### Question 5) Which is the top 10 higest revenue movies"
   ]
  },
  {
   "cell_type": "code",
   "execution_count": 62,
   "id": "3aa71213",
   "metadata": {},
   "outputs": [
    {
     "data": {
      "text/html": [
       "<div>\n",
       "<style scoped>\n",
       "    .dataframe tbody tr th:only-of-type {\n",
       "        vertical-align: middle;\n",
       "    }\n",
       "\n",
       "    .dataframe tbody tr th {\n",
       "        vertical-align: top;\n",
       "    }\n",
       "\n",
       "    .dataframe thead th {\n",
       "        text-align: right;\n",
       "    }\n",
       "</style>\n",
       "<table border=\"1\" class=\"dataframe\">\n",
       "  <thead>\n",
       "    <tr style=\"text-align: right;\">\n",
       "      <th></th>\n",
       "      <th>title</th>\n",
       "      <th>revenue</th>\n",
       "    </tr>\n",
       "  </thead>\n",
       "  <tbody>\n",
       "    <tr>\n",
       "      <th>0</th>\n",
       "      <td>Avatar</td>\n",
       "      <td>2787965087</td>\n",
       "    </tr>\n",
       "    <tr>\n",
       "      <th>22</th>\n",
       "      <td>Titanic</td>\n",
       "      <td>1845034188</td>\n",
       "    </tr>\n",
       "    <tr>\n",
       "      <th>14</th>\n",
       "      <td>The Avengers</td>\n",
       "      <td>1519557910</td>\n",
       "    </tr>\n",
       "    <tr>\n",
       "      <th>24</th>\n",
       "      <td>Jurassic World</td>\n",
       "      <td>1513528810</td>\n",
       "    </tr>\n",
       "    <tr>\n",
       "      <th>38</th>\n",
       "      <td>Furious 7</td>\n",
       "      <td>1506249360</td>\n",
       "    </tr>\n",
       "    <tr>\n",
       "      <th>7</th>\n",
       "      <td>Avengers: Age of Ultron</td>\n",
       "      <td>1405403694</td>\n",
       "    </tr>\n",
       "    <tr>\n",
       "      <th>99</th>\n",
       "      <td>Frozen</td>\n",
       "      <td>1274219009</td>\n",
       "    </tr>\n",
       "    <tr>\n",
       "      <th>27</th>\n",
       "      <td>Iron Man 3</td>\n",
       "      <td>1215439994</td>\n",
       "    </tr>\n",
       "    <tr>\n",
       "      <th>314</th>\n",
       "      <td>Minions</td>\n",
       "      <td>1156730962</td>\n",
       "    </tr>\n",
       "    <tr>\n",
       "      <th>23</th>\n",
       "      <td>Captain America: Civil War</td>\n",
       "      <td>1153304495</td>\n",
       "    </tr>\n",
       "  </tbody>\n",
       "</table>\n",
       "</div>"
      ],
      "text/plain": [
       "                          title     revenue\n",
       "0                        Avatar  2787965087\n",
       "22                      Titanic  1845034188\n",
       "14                 The Avengers  1519557910\n",
       "24               Jurassic World  1513528810\n",
       "38                    Furious 7  1506249360\n",
       "7       Avengers: Age of Ultron  1405403694\n",
       "99                       Frozen  1274219009\n",
       "27                   Iron Man 3  1215439994\n",
       "314                     Minions  1156730962\n",
       "23   Captain America: Civil War  1153304495"
      ]
     },
     "execution_count": 62,
     "metadata": {},
     "output_type": "execute_result"
    }
   ],
   "source": [
    "#a view of title against the revenue\n",
    "top_10 = cleaned_df.nlargest(10,\"revenue\")[[\"title\",\"revenue\"]]\n",
    "top_10"
   ]
  },
  {
   "cell_type": "code",
   "execution_count": 63,
   "id": "538b4d4d",
   "metadata": {
    "scrolled": true
   },
   "outputs": [
    {
     "data": {
      "image/png": "[encoded data removed]",
      "text/plain": [
       "<Figure size 648x432 with 1 Axes>"
      ]
     },
     "metadata": {
      "needs_background": "light"
     },
     "output_type": "display_data"
    }
   ],
   "source": [
    "#a graph of title against the revenue\n",
    "top_10.groupby(\"title\")[\"revenue\"].sum().sort_values().plot(kind=\"barh\",\n",
    "                                                                                 rot = 0,\n",
    "                                                                                 width = 0.35,\n",
    "                                                                                 color=[\"hotpink\"],\n",
    "                                                                                 alpha = 0.8,\n",
    "                                                                                 fontsize = 12,\n",
    "                                                                                 figsize=(9,6),\n",
    "                                                                                 )\n",
    "\n",
    "plt.ylabel(\"Movie Name\",fontsize=15, color=\"k\")\n",
    "plt.xlabel(\"Movie Revenue\",fontsize=15, color=\"k\")\n",
    "plt.legend(loc=\"lower right\")\n",
    "plt.title(\"Top 10 Highest Revenue Movies\", fontsize=18, color=\"k\");"
   ]
  },
  {
   "cell_type": "markdown",
   "id": "15905c00",
   "metadata": {},
   "source": [
    "Avatar is the movie with the highest revenue, followed by the others in the top 10 list."
   ]
  },
  {
   "cell_type": "markdown",
   "id": "6eaa3b44",
   "metadata": {},
   "source": [
    "### Question 6) Which is the top 10 grossing movies"
   ]
  },
  {
   "cell_type": "code",
   "execution_count": 64,
   "id": "7a23d59b",
   "metadata": {},
   "outputs": [
    {
     "data": {
      "text/html": [
       "<div>\n",
       "<style scoped>\n",
       "    .dataframe tbody tr th:only-of-type {\n",
       "        vertical-align: middle;\n",
       "    }\n",
       "\n",
       "    .dataframe tbody tr th {\n",
       "        vertical-align: top;\n",
       "    }\n",
       "\n",
       "    .dataframe thead th {\n",
       "        text-align: right;\n",
       "    }\n",
       "</style>\n",
       "<table border=\"1\" class=\"dataframe\">\n",
       "  <thead>\n",
       "    <tr style=\"text-align: right;\">\n",
       "      <th></th>\n",
       "      <th>title</th>\n",
       "      <th>profit</th>\n",
       "    </tr>\n",
       "  </thead>\n",
       "  <tbody>\n",
       "    <tr>\n",
       "      <th>0</th>\n",
       "      <td>Avatar</td>\n",
       "      <td>2550965087</td>\n",
       "    </tr>\n",
       "    <tr>\n",
       "      <th>22</th>\n",
       "      <td>Titanic</td>\n",
       "      <td>1645034188</td>\n",
       "    </tr>\n",
       "    <tr>\n",
       "      <th>24</th>\n",
       "      <td>Jurassic World</td>\n",
       "      <td>1363528810</td>\n",
       "    </tr>\n",
       "    <tr>\n",
       "      <th>38</th>\n",
       "      <td>Furious 7</td>\n",
       "      <td>1316249360</td>\n",
       "    </tr>\n",
       "    <tr>\n",
       "      <th>14</th>\n",
       "      <td>The Avengers</td>\n",
       "      <td>1299557910</td>\n",
       "    </tr>\n",
       "    <tr>\n",
       "      <th>7</th>\n",
       "      <td>Avengers: Age of Ultron</td>\n",
       "      <td>1125403694</td>\n",
       "    </tr>\n",
       "    <tr>\n",
       "      <th>99</th>\n",
       "      <td>Frozen</td>\n",
       "      <td>1124219009</td>\n",
       "    </tr>\n",
       "    <tr>\n",
       "      <th>314</th>\n",
       "      <td>Minions</td>\n",
       "      <td>1082730962</td>\n",
       "    </tr>\n",
       "    <tr>\n",
       "      <th>222</th>\n",
       "      <td>The Lord of the Rings: The Return of the King</td>\n",
       "      <td>1024888979</td>\n",
       "    </tr>\n",
       "    <tr>\n",
       "      <th>27</th>\n",
       "      <td>Iron Man 3</td>\n",
       "      <td>1015439994</td>\n",
       "    </tr>\n",
       "  </tbody>\n",
       "</table>\n",
       "</div>"
      ],
      "text/plain": [
       "                                             title      profit\n",
       "0                                           Avatar  2550965087\n",
       "22                                         Titanic  1645034188\n",
       "24                                  Jurassic World  1363528810\n",
       "38                                       Furious 7  1316249360\n",
       "14                                    The Avengers  1299557910\n",
       "7                          Avengers: Age of Ultron  1125403694\n",
       "99                                          Frozen  1124219009\n",
       "314                                        Minions  1082730962\n",
       "222  The Lord of the Rings: The Return of the King  1024888979\n",
       "27                                      Iron Man 3  1015439994"
      ]
     },
     "execution_count": 64,
     "metadata": {},
     "output_type": "execute_result"
    }
   ],
   "source": [
    "#a view of title against the profit\n",
    "top_10 = cleaned_df.nlargest(10,\"profit\")[[\"title\",\"profit\"]]\n",
    "top_10"
   ]
  },
  {
   "cell_type": "code",
   "execution_count": 65,
   "id": "d452c299",
   "metadata": {},
   "outputs": [
    {
     "data": {
      "image/png": "[encoded data removed]",
      "text/plain": [
       "<Figure size 648x432 with 1 Axes>"
      ]
     },
     "metadata": {
      "needs_background": "light"
     },
     "output_type": "display_data"
    }
   ],
   "source": [
    "#a graph of title against the profit\n",
    "top_10.groupby(\"title\")[\"profit\"].sum().sort_values().plot(kind=\"barh\",\n",
    "                                                                                 rot = 0,\n",
    "                                                                                 width = 0.35,\n",
    "                                                                                 color=[\"#4CAF50\"],\n",
    "                                                                                 alpha = 0.8,\n",
    "                                                                                 fontsize = 12,\n",
    "                                                                                 figsize=(9,6),\n",
    "                                                                                 )\n",
    "\n",
    "plt.ylabel(\"Movie Name\",fontsize=15, color=\"k\")\n",
    "plt.xlabel(\"Movie Profit\",fontsize=15, color=\"k\")\n",
    "plt.legend(loc=\"lower right\")\n",
    "plt.title(\"Top 10 Highest Profit Movies\", fontsize=18, color=\"k\");"
   ]
  },
  {
   "cell_type": "markdown",
   "id": "f11e1ac9",
   "metadata": {},
   "source": [
    "The highest grossing movie is the Avatar and Irom man 3 ends the top 10 list"
   ]
  },
  {
   "cell_type": "markdown",
   "id": "51562403",
   "metadata": {},
   "source": [
    "### Question 7) Which is the top 10 most rated movies"
   ]
  },
  {
   "cell_type": "code",
   "execution_count": 66,
   "id": "67a15663",
   "metadata": {},
   "outputs": [
    {
     "data": {
      "text/html": [
       "<div>\n",
       "<style scoped>\n",
       "    .dataframe tbody tr th:only-of-type {\n",
       "        vertical-align: middle;\n",
       "    }\n",
       "\n",
       "    .dataframe tbody tr th {\n",
       "        vertical-align: top;\n",
       "    }\n",
       "\n",
       "    .dataframe thead th {\n",
       "        text-align: right;\n",
       "    }\n",
       "</style>\n",
       "<table border=\"1\" class=\"dataframe\">\n",
       "  <thead>\n",
       "    <tr style=\"text-align: right;\">\n",
       "      <th></th>\n",
       "      <th>title</th>\n",
       "      <th>vote_average</th>\n",
       "    </tr>\n",
       "  </thead>\n",
       "  <tbody>\n",
       "    <tr>\n",
       "      <th>1181</th>\n",
       "      <td>The Godfather</td>\n",
       "      <td>8.4</td>\n",
       "    </tr>\n",
       "    <tr>\n",
       "      <th>369</th>\n",
       "      <td>Fight Club</td>\n",
       "      <td>8.3</td>\n",
       "    </tr>\n",
       "    <tr>\n",
       "      <th>776</th>\n",
       "      <td>Schindler's List</td>\n",
       "      <td>8.3</td>\n",
       "    </tr>\n",
       "    <tr>\n",
       "      <th>915</th>\n",
       "      <td>千と千尋の神隠し</td>\n",
       "      <td>8.3</td>\n",
       "    </tr>\n",
       "    <tr>\n",
       "      <th>1295</th>\n",
       "      <td>Whiplash</td>\n",
       "      <td>8.3</td>\n",
       "    </tr>\n",
       "    <tr>\n",
       "      <th>54</th>\n",
       "      <td>The Dark Knight</td>\n",
       "      <td>8.2</td>\n",
       "    </tr>\n",
       "    <tr>\n",
       "      <th>386</th>\n",
       "      <td>The Green Mile</td>\n",
       "      <td>8.2</td>\n",
       "    </tr>\n",
       "    <tr>\n",
       "      <th>783</th>\n",
       "      <td>GoodFellas</td>\n",
       "      <td>8.2</td>\n",
       "    </tr>\n",
       "    <tr>\n",
       "      <th>818</th>\n",
       "      <td>The Empire Strikes Back</td>\n",
       "      <td>8.2</td>\n",
       "    </tr>\n",
       "    <tr>\n",
       "      <th>1115</th>\n",
       "      <td>American History X</td>\n",
       "      <td>8.2</td>\n",
       "    </tr>\n",
       "  </tbody>\n",
       "</table>\n",
       "</div>"
      ],
      "text/plain": [
       "                        title  vote_average\n",
       "1181            The Godfather           8.4\n",
       "369                Fight Club           8.3\n",
       "776          Schindler's List           8.3\n",
       "915                  千と千尋の神隠し           8.3\n",
       "1295                 Whiplash           8.3\n",
       "54            The Dark Knight           8.2\n",
       "386            The Green Mile           8.2\n",
       "783                GoodFellas           8.2\n",
       "818   The Empire Strikes Back           8.2\n",
       "1115       American History X           8.2"
      ]
     },
     "execution_count": 66,
     "metadata": {},
     "output_type": "execute_result"
    }
   ],
   "source": [
    "#a graph of title against the vote\n",
    "top_10 = cleaned_df.nlargest(10,\"vote_average\")[[\"title\",\"vote_average\"]]\n",
    "top_10"
   ]
  },
  {
   "cell_type": "code",
   "execution_count": 67,
   "id": "b6149676",
   "metadata": {
    "scrolled": true
   },
   "outputs": [
    {
     "name": "stderr",
     "output_type": "stream",
     "text": [
      "C:\\Users\\Gidi\\anaconda3\\lib\\site-packages\\matplotlib\\backends\\backend_agg.py:240: RuntimeWarning: Glyph 21315 missing from current font.\n",
      "  font.set_text(s, 0.0, flags=flags)\n",
      "C:\\Users\\Gidi\\anaconda3\\lib\\site-packages\\matplotlib\\backends\\backend_agg.py:240: RuntimeWarning: Glyph 12392 missing from current font.\n",
      "  font.set_text(s, 0.0, flags=flags)\n",
      "C:\\Users\\Gidi\\anaconda3\\lib\\site-packages\\matplotlib\\backends\\backend_agg.py:240: RuntimeWarning: Glyph 23563 missing from current font.\n",
      "  font.set_text(s, 0.0, flags=flags)\n",
      "C:\\Users\\Gidi\\anaconda3\\lib\\site-packages\\matplotlib\\backends\\backend_agg.py:240: RuntimeWarning: Glyph 12398 missing from current font.\n",
      "  font.set_text(s, 0.0, flags=flags)\n",
      "C:\\Users\\Gidi\\anaconda3\\lib\\site-packages\\matplotlib\\backends\\backend_agg.py:240: RuntimeWarning: Glyph 31070 missing from current font.\n",
      "  font.set_text(s, 0.0, flags=flags)\n",
      "C:\\Users\\Gidi\\anaconda3\\lib\\site-packages\\matplotlib\\backends\\backend_agg.py:240: RuntimeWarning: Glyph 38560 missing from current font.\n",
      "  font.set_text(s, 0.0, flags=flags)\n",
      "C:\\Users\\Gidi\\anaconda3\\lib\\site-packages\\matplotlib\\backends\\backend_agg.py:240: RuntimeWarning: Glyph 12375 missing from current font.\n",
      "  font.set_text(s, 0.0, flags=flags)\n",
      "C:\\Users\\Gidi\\anaconda3\\lib\\site-packages\\matplotlib\\backends\\backend_agg.py:203: RuntimeWarning: Glyph 21315 missing from current font.\n",
      "  font.set_text(s, 0, flags=flags)\n",
      "C:\\Users\\Gidi\\anaconda3\\lib\\site-packages\\matplotlib\\backends\\backend_agg.py:203: RuntimeWarning: Glyph 12392 missing from current font.\n",
      "  font.set_text(s, 0, flags=flags)\n",
      "C:\\Users\\Gidi\\anaconda3\\lib\\site-packages\\matplotlib\\backends\\backend_agg.py:203: RuntimeWarning: Glyph 23563 missing from current font.\n",
      "  font.set_text(s, 0, flags=flags)\n",
      "C:\\Users\\Gidi\\anaconda3\\lib\\site-packages\\matplotlib\\backends\\backend_agg.py:203: RuntimeWarning: Glyph 12398 missing from current font.\n",
      "  font.set_text(s, 0, flags=flags)\n",
      "C:\\Users\\Gidi\\anaconda3\\lib\\site-packages\\matplotlib\\backends\\backend_agg.py:203: RuntimeWarning: Glyph 31070 missing from current font.\n",
      "  font.set_text(s, 0, flags=flags)\n",
      "C:\\Users\\Gidi\\anaconda3\\lib\\site-packages\\matplotlib\\backends\\backend_agg.py:203: RuntimeWarning: Glyph 38560 missing from current font.\n",
      "  font.set_text(s, 0, flags=flags)\n",
      "C:\\Users\\Gidi\\anaconda3\\lib\\site-packages\\matplotlib\\backends\\backend_agg.py:203: RuntimeWarning: Glyph 12375 missing from current font.\n",
      "  font.set_text(s, 0, flags=flags)\n"
     ]
    },
    {
     "data": {
      "image/png": "[encoded data removed]",
      "text/plain": [
       "<Figure size 648x432 with 1 Axes>"
      ]
     },
     "metadata": {
      "needs_background": "light"
     },
     "output_type": "display_data"
    }
   ],
   "source": [
    "#a graph of title against the vote\n",
    "top_10.groupby(\"title\")[\"vote_average\"].sum().sort_values().plot(kind=\"barh\",\n",
    "                                                                                 rot = 0,\n",
    "                                                                                 width = 0.35,\n",
    "                                                                                 color=[\"b\"],\n",
    "                                                                                 alpha = 0.8,\n",
    "                                                                                 fontsize = 12,\n",
    "                                                                                 figsize=(9,6),\n",
    "                                                                                 )\n",
    "\n",
    "plt.ylabel(\"Movie Name\",fontsize=15, color=\"k\")\n",
    "plt.xlabel(\"Movie rate\",fontsize=15, color=\"k\")\n",
    "plt.legend(loc=\"lower right\")\n",
    "plt.title(\"Top 10 Most Rated Movies\", fontsize=18, color=\"k\");"
   ]
  },
  {
   "cell_type": "markdown",
   "id": "c8c13055",
   "metadata": {},
   "source": [
    "The chart above showed the top 10 most rated movies by the audience"
   ]
  },
  {
   "cell_type": "markdown",
   "id": "400133a7",
   "metadata": {},
   "source": [
    "### Question 8) Which is the most failed movies above 100m"
   ]
  },
  {
   "cell_type": "code",
   "execution_count": 68,
   "id": "6f2481d3",
   "metadata": {},
   "outputs": [
    {
     "data": {
      "text/html": [
       "<div>\n",
       "<style scoped>\n",
       "    .dataframe tbody tr th:only-of-type {\n",
       "        vertical-align: middle;\n",
       "    }\n",
       "\n",
       "    .dataframe tbody tr th {\n",
       "        vertical-align: top;\n",
       "    }\n",
       "\n",
       "    .dataframe thead th {\n",
       "        text-align: right;\n",
       "    }\n",
       "</style>\n",
       "<table border=\"1\" class=\"dataframe\">\n",
       "  <thead>\n",
       "    <tr style=\"text-align: right;\">\n",
       "      <th></th>\n",
       "      <th>title</th>\n",
       "      <th>release_year</th>\n",
       "      <th>production_companies</th>\n",
       "      <th>budget</th>\n",
       "      <th>revenue</th>\n",
       "      <th>revenue_prop</th>\n",
       "    </tr>\n",
       "  </thead>\n",
       "  <tbody>\n",
       "    <tr>\n",
       "      <th>135</th>\n",
       "      <td>The Wolfman</td>\n",
       "      <td>2010</td>\n",
       "      <td>[Universal Pictures, Stuber Productions, Relat...</td>\n",
       "      <td>150000000</td>\n",
       "      <td>0</td>\n",
       "      <td>0.000000</td>\n",
       "    </tr>\n",
       "    <tr>\n",
       "      <th>141</th>\n",
       "      <td>Mars Needs Moms</td>\n",
       "      <td>2011</td>\n",
       "      <td>[Walt Disney Animation Studios]</td>\n",
       "      <td>150000000</td>\n",
       "      <td>38992758</td>\n",
       "      <td>0.259952</td>\n",
       "    </tr>\n",
       "    <tr>\n",
       "      <th>13</th>\n",
       "      <td>The Lone Ranger</td>\n",
       "      <td>2013</td>\n",
       "      <td>[Walt Disney Pictures, Jerry Bruckheimer Films...</td>\n",
       "      <td>255000000</td>\n",
       "      <td>89289910</td>\n",
       "      <td>0.350157</td>\n",
       "    </tr>\n",
       "    <tr>\n",
       "      <th>226</th>\n",
       "      <td>How Do You Know</td>\n",
       "      <td>2010</td>\n",
       "      <td>[Columbia Pictures, Gracie Films, Road Rebel]</td>\n",
       "      <td>120000000</td>\n",
       "      <td>48668907</td>\n",
       "      <td>0.405574</td>\n",
       "    </tr>\n",
       "    <tr>\n",
       "      <th>142</th>\n",
       "      <td>Flushed Away</td>\n",
       "      <td>2006</td>\n",
       "      <td>[Aardman Animations, DreamWorks Animation]</td>\n",
       "      <td>149000000</td>\n",
       "      <td>64459316</td>\n",
       "      <td>0.432613</td>\n",
       "    </tr>\n",
       "    <tr>\n",
       "      <th>198</th>\n",
       "      <td>R.I.P.D.</td>\n",
       "      <td>2013</td>\n",
       "      <td>[Universal Pictures, Original Film, Dark Horse...</td>\n",
       "      <td>130000000</td>\n",
       "      <td>61648500</td>\n",
       "      <td>0.474219</td>\n",
       "    </tr>\n",
       "    <tr>\n",
       "      <th>225</th>\n",
       "      <td>Speed Racer</td>\n",
       "      <td>2008</td>\n",
       "      <td>[Village Roadshow Pictures, Studio Babelsberg,...</td>\n",
       "      <td>120000000</td>\n",
       "      <td>93945766</td>\n",
       "      <td>0.782881</td>\n",
       "    </tr>\n",
       "    <tr>\n",
       "      <th>310</th>\n",
       "      <td>In the Heart of the Sea</td>\n",
       "      <td>2015</td>\n",
       "      <td>[Imagine Entertainment, Spring Creek Productio...</td>\n",
       "      <td>100000000</td>\n",
       "      <td>93820758</td>\n",
       "      <td>0.938208</td>\n",
       "    </tr>\n",
       "    <tr>\n",
       "      <th>357</th>\n",
       "      <td>Ben-Hur</td>\n",
       "      <td>2016</td>\n",
       "      <td>[Paramount Pictures, Metro-Goldwyn-Mayer (MGM)...</td>\n",
       "      <td>100000000</td>\n",
       "      <td>94061311</td>\n",
       "      <td>0.940613</td>\n",
       "    </tr>\n",
       "    <tr>\n",
       "      <th>255</th>\n",
       "      <td>Home on the Range</td>\n",
       "      <td>2004</td>\n",
       "      <td>[Walt Disney Pictures]</td>\n",
       "      <td>110000000</td>\n",
       "      <td>103951461</td>\n",
       "      <td>0.945013</td>\n",
       "    </tr>\n",
       "    <tr>\n",
       "      <th>312</th>\n",
       "      <td>Green Zone</td>\n",
       "      <td>2010</td>\n",
       "      <td>[Universal Pictures, StudioCanal, Dentsu, Rela...</td>\n",
       "      <td>100000000</td>\n",
       "      <td>94882889</td>\n",
       "      <td>0.948829</td>\n",
       "    </tr>\n",
       "    <tr>\n",
       "      <th>73</th>\n",
       "      <td>Evan Almighty</td>\n",
       "      <td>2007</td>\n",
       "      <td>[Columbia Pictures, Universal Pictures, Spygla...</td>\n",
       "      <td>175000000</td>\n",
       "      <td>173000000</td>\n",
       "      <td>0.988571</td>\n",
       "    </tr>\n",
       "  </tbody>\n",
       "</table>\n",
       "</div>"
      ],
      "text/plain": [
       "                       title  release_year  \\\n",
       "135              The Wolfman          2010   \n",
       "141          Mars Needs Moms          2011   \n",
       "13           The Lone Ranger          2013   \n",
       "226          How Do You Know          2010   \n",
       "142             Flushed Away          2006   \n",
       "198                 R.I.P.D.          2013   \n",
       "225              Speed Racer          2008   \n",
       "310  In the Heart of the Sea          2015   \n",
       "357                  Ben-Hur          2016   \n",
       "255        Home on the Range          2004   \n",
       "312               Green Zone          2010   \n",
       "73             Evan Almighty          2007   \n",
       "\n",
       "                                  production_companies     budget    revenue  \\\n",
       "135  [Universal Pictures, Stuber Productions, Relat...  150000000          0   \n",
       "141                    [Walt Disney Animation Studios]  150000000   38992758   \n",
       "13   [Walt Disney Pictures, Jerry Bruckheimer Films...  255000000   89289910   \n",
       "226      [Columbia Pictures, Gracie Films, Road Rebel]  120000000   48668907   \n",
       "142         [Aardman Animations, DreamWorks Animation]  149000000   64459316   \n",
       "198  [Universal Pictures, Original Film, Dark Horse...  130000000   61648500   \n",
       "225  [Village Roadshow Pictures, Studio Babelsberg,...  120000000   93945766   \n",
       "310  [Imagine Entertainment, Spring Creek Productio...  100000000   93820758   \n",
       "357  [Paramount Pictures, Metro-Goldwyn-Mayer (MGM)...  100000000   94061311   \n",
       "255                             [Walt Disney Pictures]  110000000  103951461   \n",
       "312  [Universal Pictures, StudioCanal, Dentsu, Rela...  100000000   94882889   \n",
       "73   [Columbia Pictures, Universal Pictures, Spygla...  175000000  173000000   \n",
       "\n",
       "     revenue_prop  \n",
       "135      0.000000  \n",
       "141      0.259952  \n",
       "13       0.350157  \n",
       "226      0.405574  \n",
       "142      0.432613  \n",
       "198      0.474219  \n",
       "225      0.782881  \n",
       "310      0.938208  \n",
       "357      0.940613  \n",
       "255      0.945013  \n",
       "312      0.948829  \n",
       "73       0.988571  "
      ]
     },
     "execution_count": 68,
     "metadata": {},
     "output_type": "execute_result"
    }
   ],
   "source": [
    "#create a view of top failed movies with highest rating\n",
    "top_failed = merged.query('budget >= 1.0e+08 and revenue < budget')[['title','release_year', 'production_companies', 'budget','revenue']]\n",
    "\n",
    "top_failed['revenue_prop'] = top_failed.revenue/top_failed.budget\n",
    "\n",
    "top_failed.sort_values(by='revenue_prop', inplace=True)\n",
    "top_failed\n",
    "\n"
   ]
  },
  {
   "cell_type": "code",
   "execution_count": 69,
   "id": "eff99a24",
   "metadata": {
    "scrolled": true
   },
   "outputs": [
    {
     "data": {
      "image/png": "[encoded data removed]",
      "text/plain": [
       "<Figure size 648x432 with 1 Axes>"
      ]
     },
     "metadata": {
      "needs_background": "light"
     },
     "output_type": "display_data"
    }
   ],
   "source": [
    "#a graph of top failed movies above 100m budget\n",
    "top_failed.groupby(\"title\")[\"revenue_prop\"].sum().sort_values().plot(kind=\"barh\",\n",
    "                                                                                 rot = 0,\n",
    "                                                                                 width = 0.35,\n",
    "                                                                                 color=[\"y\"],\n",
    "                                                                                 alpha = 0.8,\n",
    "                                                                                 fontsize = 12,\n",
    "                                                                                 figsize=(9,6),\n",
    "                                                                                 )\n",
    "\n",
    "plt.ylabel(\"Movie Name\",fontsize=15, color=\"k\")\n",
    "plt.xlabel(\"Movie Failure rate\",fontsize=15, color=\"k\")\n",
    "plt.legend(loc=\"lower right\")\n",
    "plt.title(\"Top Failed Movies\", fontsize=18, color=\"k\");"
   ]
  },
  {
   "cell_type": "markdown",
   "id": "6aedcc8f",
   "metadata": {},
   "source": [
    "It can be seen that it is possible for high budget movies to fail based on revenue, however, this is very low compared to movies that are successful."
   ]
  },
  {
   "cell_type": "markdown",
   "id": "3f0684e2",
   "metadata": {},
   "source": [
    "### Question 9) Which is the top 10 highest runtime movies? "
   ]
  },
  {
   "cell_type": "code",
   "execution_count": 70,
   "id": "a2a3feeb",
   "metadata": {
    "scrolled": true
   },
   "outputs": [
    {
     "data": {
      "text/html": [
       "<div>\n",
       "<style scoped>\n",
       "    .dataframe tbody tr th:only-of-type {\n",
       "        vertical-align: middle;\n",
       "    }\n",
       "\n",
       "    .dataframe tbody tr th {\n",
       "        vertical-align: top;\n",
       "    }\n",
       "\n",
       "    .dataframe thead th {\n",
       "        text-align: right;\n",
       "    }\n",
       "</style>\n",
       "<table border=\"1\" class=\"dataframe\">\n",
       "  <thead>\n",
       "    <tr style=\"text-align: right;\">\n",
       "      <th></th>\n",
       "      <th>title</th>\n",
       "      <th>runtime</th>\n",
       "    </tr>\n",
       "  </thead>\n",
       "  <tbody>\n",
       "    <tr>\n",
       "      <th>222</th>\n",
       "      <td>The Lord of the Rings: The Return of the King</td>\n",
       "      <td>201.0</td>\n",
       "    </tr>\n",
       "    <tr>\n",
       "      <th>776</th>\n",
       "      <td>Schindler's List</td>\n",
       "      <td>195.0</td>\n",
       "    </tr>\n",
       "    <tr>\n",
       "      <th>22</th>\n",
       "      <td>Titanic</td>\n",
       "      <td>194.0</td>\n",
       "    </tr>\n",
       "    <tr>\n",
       "      <th>386</th>\n",
       "      <td>The Green Mile</td>\n",
       "      <td>189.0</td>\n",
       "    </tr>\n",
       "    <tr>\n",
       "      <th>614</th>\n",
       "      <td>Magnolia</td>\n",
       "      <td>188.0</td>\n",
       "    </tr>\n",
       "    <tr>\n",
       "      <th>207</th>\n",
       "      <td>The Wolf of Wall Street</td>\n",
       "      <td>180.0</td>\n",
       "    </tr>\n",
       "    <tr>\n",
       "      <th>223</th>\n",
       "      <td>The Lord of the Rings: The Two Towers</td>\n",
       "      <td>179.0</td>\n",
       "    </tr>\n",
       "    <tr>\n",
       "      <th>189</th>\n",
       "      <td>The Lord of the Rings: The Fellowship of the Ring</td>\n",
       "      <td>178.0</td>\n",
       "    </tr>\n",
       "    <tr>\n",
       "      <th>265</th>\n",
       "      <td>Meet Joe Black</td>\n",
       "      <td>178.0</td>\n",
       "    </tr>\n",
       "    <tr>\n",
       "      <th>1181</th>\n",
       "      <td>The Godfather</td>\n",
       "      <td>175.0</td>\n",
       "    </tr>\n",
       "  </tbody>\n",
       "</table>\n",
       "</div>"
      ],
      "text/plain": [
       "                                                  title  runtime\n",
       "222       The Lord of the Rings: The Return of the King    201.0\n",
       "776                                    Schindler's List    195.0\n",
       "22                                              Titanic    194.0\n",
       "386                                      The Green Mile    189.0\n",
       "614                                            Magnolia    188.0\n",
       "207                             The Wolf of Wall Street    180.0\n",
       "223               The Lord of the Rings: The Two Towers    179.0\n",
       "189   The Lord of the Rings: The Fellowship of the Ring    178.0\n",
       "265                                      Meet Joe Black    178.0\n",
       "1181                                      The Godfather    175.0"
      ]
     },
     "execution_count": 70,
     "metadata": {},
     "output_type": "execute_result"
    }
   ],
   "source": [
    "#create top 10 runtime\n",
    "top_10 = cleaned_df.nlargest(10,\"runtime\")[[\"title\",\"runtime\"]]\n",
    "top_10"
   ]
  },
  {
   "cell_type": "code",
   "execution_count": 71,
   "id": "476cbe9e",
   "metadata": {
    "scrolled": true
   },
   "outputs": [
    {
     "data": {
      "image/png": "[encoded data removed]",
      "text/plain": [
       "<Figure size 648x432 with 1 Axes>"
      ]
     },
     "metadata": {
      "needs_background": "light"
     },
     "output_type": "display_data"
    }
   ],
   "source": [
    "#a graph of top 10 highest runtime\n",
    "top_10.groupby(\"title\")[\"runtime\"].sum().sort_values().plot(kind=\"barh\",\n",
    "                                                                                 rot = 0,\n",
    "                                                                                 width = 0.35,\n",
    "                                                                                 color=[\"r\"],\n",
    "                                                                                 alpha = 0.8,\n",
    "                                                                                 fontsize = 12,\n",
    "                                                                                 figsize=(9,6),\n",
    "                                                                                 )\n",
    "\n",
    "plt.ylabel(\"Movie Name\",fontsize=15, color=\"k\")\n",
    "plt.xlabel(\"Movie Runtime\",fontsize=15, color=\"k\")\n",
    "plt.legend(loc=\"lower right\")\n",
    "plt.title(\"Top 10 Highest Runtime\", fontsize=18, color=\"k\");"
   ]
  },
  {
   "cell_type": "markdown",
   "id": "4b71f90d",
   "metadata": {},
   "source": [
    "The movies that runs the most are shown above"
   ]
  },
  {
   "cell_type": "code",
   "execution_count": 72,
   "id": "1abda0b4",
   "metadata": {},
   "outputs": [
    {
     "data": {
      "text/html": [
       "<div>\n",
       "<style scoped>\n",
       "    .dataframe tbody tr th:only-of-type {\n",
       "        vertical-align: middle;\n",
       "    }\n",
       "\n",
       "    .dataframe tbody tr th {\n",
       "        vertical-align: top;\n",
       "    }\n",
       "\n",
       "    .dataframe thead th {\n",
       "        text-align: right;\n",
       "    }\n",
       "</style>\n",
       "<table border=\"1\" class=\"dataframe\">\n",
       "  <thead>\n",
       "    <tr style=\"text-align: right;\">\n",
       "      <th></th>\n",
       "      <th>title</th>\n",
       "    </tr>\n",
       "    <tr>\n",
       "      <th>lead_gender</th>\n",
       "      <th></th>\n",
       "    </tr>\n",
       "  </thead>\n",
       "  <tbody>\n",
       "    <tr>\n",
       "      <th>Female</th>\n",
       "      <td>378</td>\n",
       "    </tr>\n",
       "    <tr>\n",
       "      <th>Male</th>\n",
       "      <td>1055</td>\n",
       "    </tr>\n",
       "    <tr>\n",
       "      <th>Neither</th>\n",
       "      <td>59</td>\n",
       "    </tr>\n",
       "  </tbody>\n",
       "</table>\n",
       "</div>"
      ],
      "text/plain": [
       "             title\n",
       "lead_gender       \n",
       "Female         378\n",
       "Male          1055\n",
       "Neither         59"
      ]
     },
     "execution_count": 72,
     "metadata": {},
     "output_type": "execute_result"
    }
   ],
   "source": [
    "# Explore Male vs Female lead movies (counts and profits)\n",
    "lead_char = cleaned_df[['title','lead_gender']].groupby('lead_gender').count()\n",
    "lead_char"
   ]
  },
  {
   "cell_type": "code",
   "execution_count": 77,
   "id": "233cd0d8",
   "metadata": {
    "scrolled": false
   },
   "outputs": [
    {
     "data": {
      "image/png": "[encoded data removed]",
      "text/plain": [
       "<Figure size 648x432 with 1 Axes>"
      ]
     },
     "metadata": {
      "needs_background": "light"
     },
     "output_type": "display_data"
    }
   ],
   "source": [
    "lead_char = cleaned_df[['title','lead_gender']].groupby('lead_gender').count().plot(kind=\"bar\",\n",
    "                                                                                 rot = 0,\n",
    "                                                                                 width = 0.35,\n",
    "                                                                                 color=[\"g\"],\n",
    "                                                                                 alpha = 0.8,\n",
    "                                                                                 fontsize = 12,\n",
    "                                                                                 figsize=(9,6),\n",
    "                                                                                 )\n",
    "\n",
    "plt.ylabel(\"Gender\",fontsize=15, color=\"k\")\n",
    "plt.xlabel(\"Title Count\",fontsize=15, color=\"k\")\n",
    "plt.legend(loc=\"upper right\")\n",
    "plt.title(\"Most Used Gender\", fontsize=18, color=\"k\");"
   ]
  },
  {
   "cell_type": "code",
   "execution_count": 79,
   "id": "2cb6a220",
   "metadata": {
    "scrolled": true
   },
   "outputs": [
    {
     "data": {
      "text/plain": [
       "release_year\n",
       "2011    156\n",
       "2010    150\n",
       "2009    135\n",
       "2012    110\n",
       "2008    107\n",
       "2015     93\n",
       "2007     91\n",
       "2013     90\n",
       "2006     81\n",
       "2014     70\n",
       "Name: title, dtype: int64"
      ]
     },
     "execution_count": 79,
     "metadata": {},
     "output_type": "execute_result"
    }
   ],
   "source": [
    "# check the year which released highest number of movies using groupby\n",
    "\n",
    "high_year = cleaned_df.groupby(\"release_year\")[\"title\"].count().sort_values(ascending=False)\n",
    "top_year = high_year[:10][:]\n",
    "top_year "
   ]
  },
  {
   "cell_type": "code",
   "execution_count": 80,
   "id": "9fad8dee",
   "metadata": {
    "scrolled": true
   },
   "outputs": [
    {
     "data": {
      "image/png": "[encoded data removed]",
      "text/plain": [
       "<Figure size 648x432 with 1 Axes>"
      ]
     },
     "metadata": {
      "needs_background": "light"
     },
     "output_type": "display_data"
    }
   ],
   "source": [
    "# high_years with most released movies bar chart\n",
    "\n",
    "top_year.plot(kind=\"bar\",\n",
    "               rot = 0,\n",
    "               width = 0.35,\n",
    "               color=[\"m\"],\n",
    "               alpha = 0.8,\n",
    "               fontsize = 12,\n",
    "               figsize=(9,6),\n",
    "              )\n",
    "\n",
    "plt.ylabel(\"Number of movies\",fontsize=15, color=\"k\")\n",
    "plt.xlabel(\"Movies released Year\",fontsize=15, color=\"k\")\n",
    "plt.legend(loc=\"upper right\")\n",
    "plt.title(\"Top 10 years with highest number of released movies\", fontsize=18, color=\"k\");"
   ]
  },
  {
   "cell_type": "markdown",
   "id": "66d8cc23",
   "metadata": {},
   "source": [
    "## Conclusions"
   ]
  },
  {
   "cell_type": "markdown",
   "id": "85b266ce",
   "metadata": {},
   "source": [
    "    1. I saw that movies with high revenues are mostly commercially successful\n",
    "    \n",
    "    2. I also noticed that movies with higher budget mostly gets high revenue\n",
    "    \n",
    "    3. The popular movies have normal distribution running time, high revenues and budgets\n",
    "    \n",
    "    4. Even though Pirates of the Caribbean: On Stranger Tides is the movie with the highest budget, it's not in the top 10 of the highest grossing movies. The move the highest revenue and grossing is the Avatar. It is the most successful movie in the pack. The Godfather is the people's favorite with the highest ratings.\n",
    "    \n",
    "    5. I also found that it is difficult to produce a film with a budget exceeding 100 million and then the film fails commercially.\n",
    "\n",
    "    6. 2011 is the highest year according to number of released movies.\n",
    "\n",
    "    7. There is a very strong positive correlation between budget and profit.\n",
    "\n",
    "    8. There is a strong positive correlation between budget and profit but it's not as strong as correlation with budget.\n",
    "\n",
    "    9. There is no correlation to consider between runtime and profit.\n",
    "\n",
    "    10. There is a very strong positive correlation between vote numbers and popularity.\n",
    "\n",
    "    11. There is a strong positive correlation between vote numbers and profit.\n",
    "    \n",
    "    12. The movies with the highest crews have the highest budget, revenue and profit.\n",
    "    \n",
    "    13. English is the most spoken language and the USA is the highest production country."
   ]
  },
  {
   "cell_type": "markdown",
   "id": "5834233e",
   "metadata": {},
   "source": [
    "### Limitations"
   ]
  },
  {
   "cell_type": "markdown",
   "id": "b68af08c",
   "metadata": {},
   "source": [
    "Genres column has multiple values and there is no indication about main genre so we can not be sure from all statistics which depends on genre is accurate or not. It is also not known if popularity oe vote_counts tranlsates to most watched because there is no correlation between the two so it was hard to know the metrics for the popularity. So I cannot find correlation accurately. It was aslso hard to put the production companies in a chart due to the nature of the datasets. even though there is correleration between the popularity anf high budget, I will not call it a causation."
   ]
  },
  {
   "cell_type": "code",
   "execution_count": null,
   "id": "a5734d07",
   "metadata": {},
   "outputs": [],
   "source": []
  }
 ],
 "metadata": {
  "kernelspec": {
   "display_name": "Python 3 (ipykernel)",
   "language": "python",
   "name": "python3"
  },
  "language_info": {
   "codemirror_mode": {
    "name": "ipython",
    "version": 3
   },
   "file_extension": ".py",
   "mimetype": "text/x-python",
   "name": "python",
   "nbconvert_exporter": "python",
   "pygments_lexer": "ipython3",
   "version": "3.9.7"
  }
 },
 "nbformat": 4,
 "nbformat_minor": 5
}
